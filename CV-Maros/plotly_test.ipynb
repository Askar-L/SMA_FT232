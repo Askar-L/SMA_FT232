{
 "cells": [
  {
   "cell_type": "code",
   "execution_count": null,
   "metadata": {
    "collapsed": true
   },
   "outputs": [],
   "source": []
  },
  {
   "cell_type": "code",
   "execution_count": 4,
   "outputs": [
    {
     "ename": "ImportError",
     "evalue": "dlopen(/Users/hlibokymaros/opt/anaconda3/envs/KKUI-PV_2022/lib/python3.9/site-packages/PyQt5/QtWebEngineWidgets.abi3.so, 0x0002): Library not loaded: @rpath/QtWebEngineWidgets.framework/Versions/5/QtWebEngineWidgets\n  Referenced from: <1DC7E607-8297-38AA-AA63-4CC1AA609205> /Users/hlibokymaros/opt/anaconda3/envs/KKUI-PV_2022/lib/python3.9/site-packages/PyQt5/QtWebEngineWidgets.abi3.so\n  Reason: tried: '/Users/hlibokymaros/opt/anaconda3/envs/KKUI-PV_2022/lib/python3.9/site-packages/PyQt5/Qt5/lib/QtWebEngineWidgets.framework/Versions/5/QtWebEngineWidgets' (no such file), '/Users/hlibokymaros/opt/anaconda3/envs/KKUI-PV_2022/lib/python3.9/site-packages/PyQt5/Qt5/lib/QtWebEngineWidgets.framework/Versions/5/QtWebEngineWidgets' (no such file), '/Users/hlibokymaros/opt/anaconda3/envs/KKUI-PV_2022/bin/../lib/QtWebEngineWidgets.framework/Versions/5/QtWebEngineWidgets' (no such file), '/Users/hlibokymaros/opt/anaconda3/envs/KKUI-PV_2022/bin/../lib/QtWebEngineWidgets.framework/Versions/5/QtWebEngineWidgets' (no such file)",
     "output_type": "error",
     "traceback": [
      "\u001B[0;31m---------------------------------------------------------------------------\u001B[0m",
      "\u001B[0;31mImportError\u001B[0m                               Traceback (most recent call last)",
      "Input \u001B[0;32mIn [4]\u001B[0m, in \u001B[0;36m<cell line: 13>\u001B[0;34m()\u001B[0m\n\u001B[1;32m     11\u001B[0m \u001B[38;5;28;01mfrom\u001B[39;00m \u001B[38;5;21;01mPyQt5\u001B[39;00m\u001B[38;5;21;01m.\u001B[39;00m\u001B[38;5;21;01mQtWidgets\u001B[39;00m \u001B[38;5;28;01mimport\u001B[39;00m QApplication\n\u001B[1;32m     12\u001B[0m \u001B[38;5;28;01mfrom\u001B[39;00m \u001B[38;5;21;01mPyQt5\u001B[39;00m\u001B[38;5;21;01m.\u001B[39;00m\u001B[38;5;21;01mQtCore\u001B[39;00m \u001B[38;5;28;01mimport\u001B[39;00m QUrl\n\u001B[0;32m---> 13\u001B[0m \u001B[38;5;28;01mfrom\u001B[39;00m \u001B[38;5;21;01mPyQt5\u001B[39;00m \u001B[38;5;28;01mimport\u001B[39;00m QtWebEngineWidgets\n\u001B[1;32m     14\u001B[0m \u001B[38;5;28;01mfrom\u001B[39;00m \u001B[38;5;21;01mPyQt5\u001B[39;00m\u001B[38;5;21;01m.\u001B[39;00m\u001B[38;5;21;01mQtWebEngineWidgets\u001B[39;00m \u001B[38;5;28;01mimport\u001B[39;00m QWebEngineView \u001B[38;5;28;01mas\u001B[39;00m QWebView,QWebEnginePage \u001B[38;5;28;01mas\u001B[39;00m QWebPage\n\u001B[1;32m     15\u001B[0m \u001B[38;5;28;01mfrom\u001B[39;00m \u001B[38;5;21;01mPyQt5\u001B[39;00m\u001B[38;5;21;01m.\u001B[39;00m\u001B[38;5;21;01mQtWebEngineWidgets\u001B[39;00m \u001B[38;5;28;01mimport\u001B[39;00m QWebEngineSettings \u001B[38;5;28;01mas\u001B[39;00m QWebSettings\n",
      "\u001B[0;31mImportError\u001B[0m: dlopen(/Users/hlibokymaros/opt/anaconda3/envs/KKUI-PV_2022/lib/python3.9/site-packages/PyQt5/QtWebEngineWidgets.abi3.so, 0x0002): Library not loaded: @rpath/QtWebEngineWidgets.framework/Versions/5/QtWebEngineWidgets\n  Referenced from: <1DC7E607-8297-38AA-AA63-4CC1AA609205> /Users/hlibokymaros/opt/anaconda3/envs/KKUI-PV_2022/lib/python3.9/site-packages/PyQt5/QtWebEngineWidgets.abi3.so\n  Reason: tried: '/Users/hlibokymaros/opt/anaconda3/envs/KKUI-PV_2022/lib/python3.9/site-packages/PyQt5/Qt5/lib/QtWebEngineWidgets.framework/Versions/5/QtWebEngineWidgets' (no such file), '/Users/hlibokymaros/opt/anaconda3/envs/KKUI-PV_2022/lib/python3.9/site-packages/PyQt5/Qt5/lib/QtWebEngineWidgets.framework/Versions/5/QtWebEngineWidgets' (no such file), '/Users/hlibokymaros/opt/anaconda3/envs/KKUI-PV_2022/bin/../lib/QtWebEngineWidgets.framework/Versions/5/QtWebEngineWidgets' (no such file), '/Users/hlibokymaros/opt/anaconda3/envs/KKUI-PV_2022/bin/../lib/QtWebEngineWidgets.framework/Versions/5/QtWebEngineWidgets' (no such file)"
     ]
    }
   ],
   "source": [
    "import numpy as np\n",
    "import plotly.graph_objs as go\n",
    "import plotly.offline\n",
    "\n",
    "fig = go.Figure()\n",
    "fig.add_scatter(x=np.random.rand(100), y=np.random.rand(100), mode='markers',\n",
    "                marker={'size': 30, 'color': np.random.rand(100), 'opacity': 0.6,\n",
    "                        'colorscale': 'Viridis'});\n",
    "\n",
    "import os, sys\n",
    "from PyQt5.QtWidgets import QApplication\n",
    "from PyQt5.QtCore import QUrl\n",
    "from PyQt5 import QtWebEngineWidgets\n",
    "from PyQt5.QtWebEngineWidgets import QWebEngineView as QWebView,QWebEnginePage as QWebPage\n",
    "from PyQt5.QtWebEngineWidgets import QWebEngineSettings as QWebSettings\n",
    "\n",
    "\n",
    "class PlotlyViewer(QtWebEngineWidgets.QWebEngineView):\n",
    "    def __init__(self, fig, exec=True):\n",
    "        # Create a QApplication instance or use the existing one if it exists\n",
    "        self.app = QApplication.instance() if QApplication.instance() else QApplication(sys.argv)\n",
    "\n",
    "        super().__init__()\n",
    "\n",
    "        self.file_path = os.path.abspath(os.path.join(os.path.dirname(__file__), \"temp.html\"))\n",
    "        plotly.offline.plot(fig, filename=self.file_path, auto_open=False)\n",
    "        self.load(QUrl.fromLocalFile(self.file_path))\n",
    "        self.setWindowTitle(\"Plotly Viewer\")\n",
    "        self.show()\n",
    "\n",
    "        if exec:\n",
    "            self.app.exec_()\n",
    "\n",
    "    def closeEvent(self, event):\n",
    "        os.remove(self.file_path)\n",
    "\n",
    "\n",
    "win = PlotlyViewer(fig)"
   ],
   "metadata": {
    "collapsed": false,
    "ExecuteTime": {
     "end_time": "2024-01-03T09:00:35.575545Z",
     "start_time": "2024-01-03T09:00:35.558769Z"
    }
   }
  },
  {
   "cell_type": "code",
   "execution_count": null,
   "outputs": [],
   "source": [],
   "metadata": {
    "collapsed": false
   }
  }
 ],
 "metadata": {
  "kernelspec": {
   "display_name": "Python 3",
   "language": "python",
   "name": "python3"
  },
  "language_info": {
   "codemirror_mode": {
    "name": "ipython",
    "version": 2
   },
   "file_extension": ".py",
   "mimetype": "text/x-python",
   "name": "python",
   "nbconvert_exporter": "python",
   "pygments_lexer": "ipython2",
   "version": "2.7.6"
  }
 },
 "nbformat": 4,
 "nbformat_minor": 0
}
