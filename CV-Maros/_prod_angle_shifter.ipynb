{
 "cells": [
  {
   "cell_type": "code",
   "execution_count": 22,
   "metadata": {
    "collapsed": true,
    "ExecuteTime": {
     "end_time": "2024-01-03T05:24:57.635204Z",
     "start_time": "2024-01-03T05:24:57.604343Z"
    }
   },
   "outputs": [
    {
     "data": {
      "text/plain": "       frame     angle_0     angle_1     angle_2  i_p_0_0_x  i_p_0_0_y  \\\n0          0  152.760279  145.150848  161.911018        328        645   \n1          1  152.760279  145.150848  163.176450        328        645   \n2          2  152.760279  145.150848  163.176450        328        645   \n3          3  152.760279  145.409518  162.917780        328        645   \n4          4  152.760279  145.409518  162.917780        328        645   \n...      ...         ...         ...         ...        ...        ...   \n10313  10313  137.460719   75.356557  175.971736        332        662   \n10314  10314  136.132541   74.892455  178.058514        332        662   \n10315  10315  136.132541   74.892455  176.522213        332        662   \n10316  10316  136.486214   72.434985  177.160786        332        662   \n10317  10317  135.582570   75.442426  168.087610        332        662   \n\n       i_p_0_x  i_p_0_y  i_p_1_x  i_p_1_y  i_p_2_x  i_p_2_y  i_p_3_x  i_p_3_y  \\\n0          431      502      589      375      673      374      762      409   \n1          431      502      589      375      673      374      762      408   \n2          431      502      589      375      673      374      762      408   \n3          431      502      589      375      673      374      762      408   \n4          431      502      589      375      673      374      762      408   \n...        ...      ...      ...      ...      ...      ...      ...      ...   \n10313      405      501      554      366      585      428      588      522   \n10314      406      501      556      367      585      429      588      523   \n10315      406      501      556      367      585      429      586      524   \n10316      406      501      556      367      584      430      583      525   \n10317      406      501      556      368      585      431      576      527   \n\n            time  \n0       0.000000  \n1       0.002083  \n2       0.004167  \n3       0.006250  \n4       0.008333  \n...          ...  \n10313  21.485417  \n10314  21.487500  \n10315  21.489583  \n10316  21.491667  \n10317  21.493750  \n\n[10318 rows x 15 columns]",
      "text/html": "<div>\n<style scoped>\n    .dataframe tbody tr th:only-of-type {\n        vertical-align: middle;\n    }\n\n    .dataframe tbody tr th {\n        vertical-align: top;\n    }\n\n    .dataframe thead th {\n        text-align: right;\n    }\n</style>\n<table border=\"1\" class=\"dataframe\">\n  <thead>\n    <tr style=\"text-align: right;\">\n      <th></th>\n      <th>frame</th>\n      <th>angle_0</th>\n      <th>angle_1</th>\n      <th>angle_2</th>\n      <th>i_p_0_0_x</th>\n      <th>i_p_0_0_y</th>\n      <th>i_p_0_x</th>\n      <th>i_p_0_y</th>\n      <th>i_p_1_x</th>\n      <th>i_p_1_y</th>\n      <th>i_p_2_x</th>\n      <th>i_p_2_y</th>\n      <th>i_p_3_x</th>\n      <th>i_p_3_y</th>\n      <th>time</th>\n    </tr>\n  </thead>\n  <tbody>\n    <tr>\n      <th>0</th>\n      <td>0</td>\n      <td>152.760279</td>\n      <td>145.150848</td>\n      <td>161.911018</td>\n      <td>328</td>\n      <td>645</td>\n      <td>431</td>\n      <td>502</td>\n      <td>589</td>\n      <td>375</td>\n      <td>673</td>\n      <td>374</td>\n      <td>762</td>\n      <td>409</td>\n      <td>0.000000</td>\n    </tr>\n    <tr>\n      <th>1</th>\n      <td>1</td>\n      <td>152.760279</td>\n      <td>145.150848</td>\n      <td>163.176450</td>\n      <td>328</td>\n      <td>645</td>\n      <td>431</td>\n      <td>502</td>\n      <td>589</td>\n      <td>375</td>\n      <td>673</td>\n      <td>374</td>\n      <td>762</td>\n      <td>408</td>\n      <td>0.002083</td>\n    </tr>\n    <tr>\n      <th>2</th>\n      <td>2</td>\n      <td>152.760279</td>\n      <td>145.150848</td>\n      <td>163.176450</td>\n      <td>328</td>\n      <td>645</td>\n      <td>431</td>\n      <td>502</td>\n      <td>589</td>\n      <td>375</td>\n      <td>673</td>\n      <td>374</td>\n      <td>762</td>\n      <td>408</td>\n      <td>0.004167</td>\n    </tr>\n    <tr>\n      <th>3</th>\n      <td>3</td>\n      <td>152.760279</td>\n      <td>145.409518</td>\n      <td>162.917780</td>\n      <td>328</td>\n      <td>645</td>\n      <td>431</td>\n      <td>502</td>\n      <td>589</td>\n      <td>375</td>\n      <td>673</td>\n      <td>374</td>\n      <td>762</td>\n      <td>408</td>\n      <td>0.006250</td>\n    </tr>\n    <tr>\n      <th>4</th>\n      <td>4</td>\n      <td>152.760279</td>\n      <td>145.409518</td>\n      <td>162.917780</td>\n      <td>328</td>\n      <td>645</td>\n      <td>431</td>\n      <td>502</td>\n      <td>589</td>\n      <td>375</td>\n      <td>673</td>\n      <td>374</td>\n      <td>762</td>\n      <td>408</td>\n      <td>0.008333</td>\n    </tr>\n    <tr>\n      <th>...</th>\n      <td>...</td>\n      <td>...</td>\n      <td>...</td>\n      <td>...</td>\n      <td>...</td>\n      <td>...</td>\n      <td>...</td>\n      <td>...</td>\n      <td>...</td>\n      <td>...</td>\n      <td>...</td>\n      <td>...</td>\n      <td>...</td>\n      <td>...</td>\n      <td>...</td>\n    </tr>\n    <tr>\n      <th>10313</th>\n      <td>10313</td>\n      <td>137.460719</td>\n      <td>75.356557</td>\n      <td>175.971736</td>\n      <td>332</td>\n      <td>662</td>\n      <td>405</td>\n      <td>501</td>\n      <td>554</td>\n      <td>366</td>\n      <td>585</td>\n      <td>428</td>\n      <td>588</td>\n      <td>522</td>\n      <td>21.485417</td>\n    </tr>\n    <tr>\n      <th>10314</th>\n      <td>10314</td>\n      <td>136.132541</td>\n      <td>74.892455</td>\n      <td>178.058514</td>\n      <td>332</td>\n      <td>662</td>\n      <td>406</td>\n      <td>501</td>\n      <td>556</td>\n      <td>367</td>\n      <td>585</td>\n      <td>429</td>\n      <td>588</td>\n      <td>523</td>\n      <td>21.487500</td>\n    </tr>\n    <tr>\n      <th>10315</th>\n      <td>10315</td>\n      <td>136.132541</td>\n      <td>74.892455</td>\n      <td>176.522213</td>\n      <td>332</td>\n      <td>662</td>\n      <td>406</td>\n      <td>501</td>\n      <td>556</td>\n      <td>367</td>\n      <td>585</td>\n      <td>429</td>\n      <td>586</td>\n      <td>524</td>\n      <td>21.489583</td>\n    </tr>\n    <tr>\n      <th>10316</th>\n      <td>10316</td>\n      <td>136.486214</td>\n      <td>72.434985</td>\n      <td>177.160786</td>\n      <td>332</td>\n      <td>662</td>\n      <td>406</td>\n      <td>501</td>\n      <td>556</td>\n      <td>367</td>\n      <td>584</td>\n      <td>430</td>\n      <td>583</td>\n      <td>525</td>\n      <td>21.491667</td>\n    </tr>\n    <tr>\n      <th>10317</th>\n      <td>10317</td>\n      <td>135.582570</td>\n      <td>75.442426</td>\n      <td>168.087610</td>\n      <td>332</td>\n      <td>662</td>\n      <td>406</td>\n      <td>501</td>\n      <td>556</td>\n      <td>368</td>\n      <td>585</td>\n      <td>431</td>\n      <td>576</td>\n      <td>527</td>\n      <td>21.493750</td>\n    </tr>\n  </tbody>\n</table>\n<p>10318 rows × 15 columns</p>\n</div>"
     },
     "execution_count": 22,
     "metadata": {},
     "output_type": "execute_result"
    }
   ],
   "source": [
    "import numpy as np\n",
    "import time\n",
    "import os\n",
    "import matplotlib.pyplot as plt\n",
    "import pandas as pd\n",
    "import plotly.express as px\n",
    "import numpy as np\n",
    "from skimage import data, filters, draw\n",
    "import matplotlib.pyplot as plt\n",
    "from skimage.draw import rectangle\n",
    "from skimage.morphology import disk\n",
    "from skimage import morphology\n",
    "plt.rcParams['text.color'] = 'black'\n",
    "plt.rcParams['xtick.color'] = 'black'\n",
    "plt.rcParams['ytick.color'] = 'black'\n",
    "import math\n",
    "plt.rcParams['axes.labelcolor'] = 'black'\n",
    "plt.rcParams['font.size'] = 18\n",
    "import plotly.graph_objects as go\n",
    "from plotly.subplots import make_subplots\n",
    "output_folder_csv = \"../output/csv\"\n",
    "video_name = \"010_001_test\"\n",
    "from cv_helper import CvHelper\n",
    "df_raw_angles = pd.read_csv(os.path.join(output_folder_csv, f\"{video_name}.csv\"))\n",
    "df_raw_angles"
   ]
  },
  {
   "cell_type": "code",
   "execution_count": 23,
   "outputs": [],
   "source": [
    "from cv_helper import CvHelper"
   ],
   "metadata": {
    "collapsed": false,
    "ExecuteTime": {
     "end_time": "2024-01-03T05:24:57.783819Z",
     "start_time": "2024-01-03T05:24:57.769488Z"
    }
   }
  },
  {
   "cell_type": "code",
   "execution_count": 24,
   "outputs": [
    {
     "name": "stderr",
     "output_type": "stream",
     "text": [
      "/var/folders/mt/zbsgqls91d5c1dt725ckq4lc0000gn/T/ipykernel_2401/2830361.py:4: SettingWithCopyWarning: \n",
      "A value is trying to be set on a copy of a slice from a DataFrame.\n",
      "Try using .loc[row_indexer,col_indexer] = value instead\n",
      "\n",
      "See the caveats in the documentation: https://pandas.pydata.org/pandas-docs/stable/user_guide/indexing.html#returning-a-view-versus-a-copy\n",
      "  row[\"marker_a_x\"] = row[\"i_p_0_0_x\"] + 100\n",
      "/var/folders/mt/zbsgqls91d5c1dt725ckq4lc0000gn/T/ipykernel_2401/2830361.py:5: SettingWithCopyWarning: \n",
      "A value is trying to be set on a copy of a slice from a DataFrame.\n",
      "Try using .loc[row_indexer,col_indexer] = value instead\n",
      "\n",
      "See the caveats in the documentation: https://pandas.pydata.org/pandas-docs/stable/user_guide/indexing.html#returning-a-view-versus-a-copy\n",
      "  row[\"marker_a_y\"]  = row[\"i_p_0_0_y\"]\n"
     ]
    }
   ],
   "source": [
    "row = df_raw_angles[0:1]\n",
    "\n",
    "# Create new point along on horizontal line with first point\n",
    "row[\"marker_a_x\"] = row[\"i_p_0_0_x\"] + 100\n",
    "row[\"marker_a_y\"]  = row[\"i_p_0_0_y\"]"
   ],
   "metadata": {
    "collapsed": false,
    "ExecuteTime": {
     "end_time": "2024-01-03T05:24:57.899895Z",
     "start_time": "2024-01-03T05:24:57.891401Z"
    }
   }
  },
  {
   "cell_type": "code",
   "execution_count": 25,
   "outputs": [
    {
     "name": "stdout",
     "output_type": "stream",
     "text": [
      "-10300 -14300\n",
      "54.235559093165925\n",
      "-1\n"
     ]
    }
   ],
   "source": [
    "# Calculate angle\n",
    "shift_angle =  CvHelper.calculate_angle(\n",
    "    (\n",
    "        (int(row[\"i_p_0_x\"]), int(row[\"i_p_0_y\"])), (int(row[\"i_p_0_0_x\"]), int(row[\"i_p_0_0_y\"]))\n",
    "    ),\n",
    "    (\n",
    "        (int(row[\"i_p_0_0_x\"]), int(row[\"i_p_0_0_y\"])), (int(row[\"marker_a_x\"]), int(row[\"marker_a_y\"]))\n",
    "    )\n",
    ")"
   ],
   "metadata": {
    "collapsed": false,
    "ExecuteTime": {
     "end_time": "2024-01-03T05:24:58.081239Z",
     "start_time": "2024-01-03T05:24:58.069666Z"
    }
   }
  },
  {
   "cell_type": "code",
   "execution_count": 26,
   "outputs": [],
   "source": [
    "# Rotate points points\n",
    "rotated_points = CvHelper.rotate_coordinates([(int(row[\"i_p_0_x\"]), int(row[\"i_p_0_y\"])),\n",
    "                                     (int(row[\"i_p_1_x\"]), int(row[\"i_p_1_y\"])),\n",
    "                                     (int(row[\"i_p_2_x\"]), int(row[\"i_p_2_y\"])),\n",
    "                                     (int(row[\"i_p_3_x\"]), int(row[\"i_p_3_y\"]))\n",
    "                                     ], -54, (int(row[\"i_p_0_0_x\"]),int(row[\"i_p_0_0_y\"])))"
   ],
   "metadata": {
    "collapsed": false,
    "ExecuteTime": {
     "end_time": "2024-01-03T05:24:58.266658Z",
     "start_time": "2024-01-03T05:24:58.257022Z"
    }
   }
  },
  {
   "cell_type": "code",
   "execution_count": 27,
   "outputs": [
    {
     "data": {
      "text/plain": "array([[504.23131118, 644.27545934],\n       [699.84653933, 697.45141741],\n       [750.02951752, 764.82105969],\n       [774.02681017, 857.39605602]])"
     },
     "execution_count": 27,
     "metadata": {},
     "output_type": "execute_result"
    }
   ],
   "source": [
    "rotated_points"
   ],
   "metadata": {
    "collapsed": false,
    "ExecuteTime": {
     "end_time": "2024-01-03T05:25:00.039648Z",
     "start_time": "2024-01-03T05:25:00.029408Z"
    }
   }
  },
  {
   "cell_type": "code",
   "execution_count": 28,
   "outputs": [
    {
     "data": {
      "text/plain": "array([[504.23131118, 644.27545934],\n       [699.84653933, 697.45141741],\n       [750.02951752, 764.82105969],\n       [774.02681017, 857.39605602]])"
     },
     "execution_count": 28,
     "metadata": {},
     "output_type": "execute_result"
    }
   ],
   "source": [
    "rotated_points"
   ],
   "metadata": {
    "collapsed": false,
    "ExecuteTime": {
     "end_time": "2024-01-03T05:25:00.236882Z",
     "start_time": "2024-01-03T05:25:00.208080Z"
    }
   }
  },
  {
   "cell_type": "code",
   "execution_count": 35,
   "outputs": [],
   "source": [
    "def rotate_frame_tracked_points(row):\n",
    "    # Create new point along on horizontal line with first point\n",
    "    row[\"marker_a_x\"] = row[\"i_p_0_0_x\"] + 100\n",
    "    row[\"marker_a_y\"]  = row[\"i_p_0_0_y\"]\n",
    "\n",
    "    # Calculate angle\n",
    "    shift_angle =  CvHelper.calculate_angle(\n",
    "        (\n",
    "            (int(row[\"i_p_0_x\"]), int(row[\"i_p_0_y\"])), (int(row[\"i_p_0_0_x\"]), int(row[\"i_p_0_0_y\"]))\n",
    "        ),\n",
    "        (\n",
    "            (int(row[\"i_p_0_0_x\"]), int(row[\"i_p_0_0_y\"])), (int(row[\"marker_a_x\"]), int(row[\"marker_a_y\"]))\n",
    "        )\n",
    "    )\n",
    "    print(shift_angle)\n",
    "    # Rotate points\n",
    "    rotated_points = CvHelper.rotate_coordinates([(int(row[\"i_p_0_x\"]), int(row[\"i_p_0_y\"])),\n",
    "                                                  (int(row[\"i_p_1_x\"]), int(row[\"i_p_1_y\"])),\n",
    "                                                  (int(row[\"i_p_2_x\"]), int(row[\"i_p_2_y\"])),\n",
    "                                                  (int(row[\"i_p_3_x\"]), int(row[\"i_p_3_y\"]))\n",
    "                                                  ], (180 - shift_angle) * -1, (int(row[\"i_p_0_0_x\"]),int(row[\"i_p_0_0_y\"])))\n",
    "\n",
    "    # Shifting point to central zero\n",
    "    rotated_points[:,0] = rotated_points[:,0] - rotated_points[0,0]\n",
    "    rotated_points[:,1] = rotated_points[:,1] - rotated_points[0,1]\n",
    "\n",
    "    return rotated_points"
   ],
   "metadata": {
    "collapsed": false,
    "ExecuteTime": {
     "end_time": "2024-01-03T05:27:16.486214Z",
     "start_time": "2024-01-03T05:27:16.476004Z"
    }
   }
  },
  {
   "cell_type": "code",
   "execution_count": 36,
   "outputs": [
    {
     "name": "stdout",
     "output_type": "stream",
     "text": [
      "-10300 -14300\n",
      "54.235559093165925\n",
      "-1\n",
      "125.76444090683407\n"
     ]
    },
    {
     "name": "stderr",
     "output_type": "stream",
     "text": [
      "/var/folders/mt/zbsgqls91d5c1dt725ckq4lc0000gn/T/ipykernel_2401/1051738513.py:3: SettingWithCopyWarning: \n",
      "A value is trying to be set on a copy of a slice from a DataFrame.\n",
      "Try using .loc[row_indexer,col_indexer] = value instead\n",
      "\n",
      "See the caveats in the documentation: https://pandas.pydata.org/pandas-docs/stable/user_guide/indexing.html#returning-a-view-versus-a-copy\n",
      "  row[\"marker_a_x\"] = row[\"i_p_0_0_x\"] + 100\n",
      "/var/folders/mt/zbsgqls91d5c1dt725ckq4lc0000gn/T/ipykernel_2401/1051738513.py:4: SettingWithCopyWarning: \n",
      "A value is trying to be set on a copy of a slice from a DataFrame.\n",
      "Try using .loc[row_indexer,col_indexer] = value instead\n",
      "\n",
      "See the caveats in the documentation: https://pandas.pydata.org/pandas-docs/stable/user_guide/indexing.html#returning-a-view-versus-a-copy\n",
      "  row[\"marker_a_y\"]  = row[\"i_p_0_0_y\"]\n"
     ]
    },
    {
     "data": {
      "text/plain": "array([[  0.        ,   0.        ],\n       [195.39495421,  53.97973572],\n       [245.30053349, 121.55512441],\n       [268.91702251, 214.22799772]])"
     },
     "execution_count": 36,
     "metadata": {},
     "output_type": "execute_result"
    }
   ],
   "source": [
    "rotate_frame_tracked_points(row)"
   ],
   "metadata": {
    "collapsed": false,
    "ExecuteTime": {
     "end_time": "2024-01-03T05:27:16.612644Z",
     "start_time": "2024-01-03T05:27:16.604149Z"
    }
   }
  },
  {
   "cell_type": "code",
   "execution_count": 36,
   "outputs": [],
   "source": [],
   "metadata": {
    "collapsed": false,
    "ExecuteTime": {
     "end_time": "2024-01-03T05:27:16.974641Z",
     "start_time": "2024-01-03T05:27:16.965970Z"
    }
   }
  },
  {
   "cell_type": "code",
   "execution_count": null,
   "outputs": [],
   "source": [],
   "metadata": {
    "collapsed": false
   }
  }
 ],
 "metadata": {
  "kernelspec": {
   "display_name": "Python 3",
   "language": "python",
   "name": "python3"
  },
  "language_info": {
   "codemirror_mode": {
    "name": "ipython",
    "version": 2
   },
   "file_extension": ".py",
   "mimetype": "text/x-python",
   "name": "python",
   "nbconvert_exporter": "python",
   "pygments_lexer": "ipython2",
   "version": "2.7.6"
  }
 },
 "nbformat": 4,
 "nbformat_minor": 0
}
