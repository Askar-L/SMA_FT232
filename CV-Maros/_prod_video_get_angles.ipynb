{
 "cells": [
  {
   "cell_type": "markdown",
   "source": [
    "# Imports"
   ],
   "metadata": {
    "collapsed": false
   }
  },
  {
   "cell_type": "code",
   "execution_count": 1,
   "outputs": [],
   "source": [
    "import cv2\n",
    "import numpy as np\n",
    "import time\n",
    "import os\n",
    "import matplotlib.pyplot as plt\n",
    "import pandas as pd\n",
    "from cv_helper import CvHelper\n",
    "import json"
   ],
   "metadata": {
    "collapsed": false,
    "ExecuteTime": {
     "end_time": "2024-01-05T08:05:11.294398Z",
     "start_time": "2024-01-05T08:05:10.531702Z"
    }
   }
  },
  {
   "cell_type": "markdown",
   "source": [
    "# Constants\n",
    "## For styling"
   ],
   "metadata": {
    "collapsed": false
   }
  },
  {
   "cell_type": "code",
   "execution_count": 2,
   "outputs": [],
   "source": [
    "colors = [(0,127,255), (127,0,255), (0,127,0), (255,0,0)]\n",
    "line_padding = [0.7, 1.5,1.5,1.5]\n",
    "\n",
    "font_scale = 1\n",
    "text_position_cnt = (100, 100)\n",
    "text_position_time = (100, 120)\n",
    "\n",
    "output_folder_video = \"../output/video\"\n",
    "output_folder_csv = \"../output/csv\""
   ],
   "metadata": {
    "collapsed": false,
    "ExecuteTime": {
     "end_time": "2024-01-05T08:05:11.298174Z",
     "start_time": "2024-01-05T08:05:11.295979Z"
    }
   }
  },
  {
   "cell_type": "markdown",
   "source": [
    "## For algorithm tuning"
   ],
   "metadata": {
    "collapsed": false
   }
  },
  {
   "cell_type": "code",
   "execution_count": 3,
   "outputs": [],
   "source": [
    "video_name = \"010_001_test\"\n",
    "video_path = f\"../{video_name}.mp4\"\n",
    "with open(f\"../output/time_coordinates/{video_name}.json\", 'r') as file:\n",
    "    video_metadata = json.load(file)\n"
   ],
   "metadata": {
    "collapsed": false,
    "ExecuteTime": {
     "end_time": "2024-01-05T08:05:11.300872Z",
     "start_time": "2024-01-05T08:05:11.298712Z"
    }
   }
  },
  {
   "cell_type": "code",
   "execution_count": 4,
   "outputs": [],
   "source": [
    "# Are for optime\n",
    "kernel = np.ones((5,5),np.uint8)\n",
    "threshold_area_size = video_metadata[\"point_thresholds\"]\n",
    "\n",
    "frame_shift = 0\n",
    "set_fps = 480 # I dont know if its work\n",
    "\n"
   ],
   "metadata": {
    "collapsed": false,
    "ExecuteTime": {
     "end_time": "2024-01-05T08:05:11.674453Z",
     "start_time": "2024-01-05T08:05:11.380094Z"
    }
   }
  },
  {
   "cell_type": "code",
   "execution_count": 5,
   "outputs": [
    {
     "data": {
      "text/plain": "[100, 150, 100, 10]"
     },
     "execution_count": 5,
     "metadata": {},
     "output_type": "execute_result"
    }
   ],
   "source": [
    "threshold_area_size"
   ],
   "metadata": {
    "collapsed": false,
    "ExecuteTime": {
     "end_time": "2024-01-05T08:05:11.686759Z",
     "start_time": "2024-01-05T08:05:11.586159Z"
    }
   }
  },
  {
   "cell_type": "code",
   "execution_count": 6,
   "outputs": [
    {
     "data": {
      "text/plain": "'../010_001_test.mp4'"
     },
     "execution_count": 6,
     "metadata": {},
     "output_type": "execute_result"
    }
   ],
   "source": [
    "video_path"
   ],
   "metadata": {
    "collapsed": false,
    "ExecuteTime": {
     "end_time": "2024-01-05T08:05:11.687894Z",
     "start_time": "2024-01-05T08:05:11.669063Z"
    }
   }
  },
  {
   "cell_type": "markdown",
   "source": [
    "## Support functions"
   ],
   "metadata": {
    "collapsed": false
   }
  },
  {
   "cell_type": "code",
   "execution_count": 7,
   "outputs": [],
   "source": [
    "# def segment_marker_by_color(frame_tmp, video_color_metadata):\n",
    "#     # Input must be a frame in the cielab color model from the OpenCV function\n",
    "#\n",
    "#     # Extract color channels\n",
    "#     L_channel = frame_tmp[:, :, 0]\n",
    "#     a_channel = frame_tmp[:, :, 1]\n",
    "#     b_channel = frame_tmp[:, :, 2]\n",
    "#\n",
    "#     # Color segmentation using NumPy array operations - old one wiht pink\n",
    "#     # marker_blue = (a_channel > 120) & (a_channel < 170) & (b_channel > 145)\n",
    "#     # marker_blue = (a_channel > 150) & (a_channel < 170) & (b_channel > 100)\n",
    "#     # marker_pink = (a_channel > 120) & (b_channel < 90) & (L_channel > 150)\n",
    "#     # marker_green = (a_channel < 117) & (b_channel > 130)\n",
    "#     # marker_yellow = (a_channel < 115) &  (b_channel < 115)\n",
    "#\n",
    "#     # Color segmentation using NumPy array operations\n",
    "#     # marker_yellow =  (a_channel >  100) & (a_channel < 115) & (b_channel > -999) & (b_channel < 110) # points 0\n",
    "#     # marker_pink   =  (a_channel > -999) & (a_channel < 100) & (b_channel >  130) & (b_channel < 140)  # points 1 - for human it will be light green\n",
    "#     # marker_green  =  (a_channel >  100) & (a_channel < 115) & (b_channel >  140) & (b_channel < 999) # points 2 - or human it will be green\n",
    "#     # marker_blue   =  (a_channel >  150) & (a_channel < 170) & (b_channel >  100) & (b_channel < 999) # points 3 - or human it will be purple\n",
    "#     mask_of_points_0 = (a_channel > video_color_metadata[\"point_0\"][\"a_down\"]) & \\\n",
    "#                     (a_channel < video_color_metadata[\"point_0\"][\"a_up\"]) & \\\n",
    "#                     (b_channel > video_color_metadata[\"point_0\"][\"b_down\"]) & \\\n",
    "#                     (b_channel < video_color_metadata[\"point_0\"][\"b_up\"]) # points 0\n",
    "#\n",
    "#     mask_of_points_1 = (a_channel > video_color_metadata[\"point_1\"][\"a_down\"]) & \\\n",
    "#                   (a_channel < video_color_metadata[\"point_1\"][\"a_up\"]) & \\\n",
    "#                   (b_channel > video_color_metadata[\"point_1\"][\"b_down\"]) & \\\n",
    "#                   (b_channel < video_color_metadata[\"point_1\"][\"b_up\"])\n",
    "#\n",
    "#     mask_of_points_2 = (a_channel > video_color_metadata[\"point_2\"][\"a_down\"]) & \\\n",
    "#                    (a_channel < video_color_metadata[\"point_2\"][\"a_up\"]) & \\\n",
    "#                    (b_channel > video_color_metadata[\"point_2\"][\"b_down\"]) & \\\n",
    "#                    (b_channel < video_color_metadata[\"point_2\"][\"b_up\"])\n",
    "#\n",
    "#     mask_of_points_3 = (a_channel > video_color_metadata[\"point_3\"][\"a_down\"]) & \\\n",
    "#                   (a_channel < video_color_metadata[\"point_3\"][\"a_up\"]) & \\\n",
    "#                   (b_channel > video_color_metadata[\"point_3\"][\"b_down\"]) & \\\n",
    "#                   (b_channel < video_color_metadata[\"point_3\"][\"b_up\"])\n",
    "#\n",
    "#     # marker_yellow = (a_channel > 110) & (a_channel < 120) & (b_channel > 130) & (b_channel < 150)\n",
    "#     # marker_blue =  (b_channel < 10)\n",
    "#\n",
    "#     kernel = np.ones((5,5),np.uint8)\n",
    "#     mask_of_points_0 = cv2.dilate(np.uint8(mask_of_points_0*255),kernel,iterations = 1)\n",
    "#     mask_of_points_1 = cv2.dilate(np.uint8(mask_of_points_1*255),kernel,iterations = 1)\n",
    "#     mask_of_points_1 = cv2.dilate(np.uint8(mask_of_points_1*255),kernel,iterations = 1)\n",
    "#     mask_of_points_2 = cv2.dilate(np.uint8(mask_of_points_2*255),kernel,iterations = 1)\n",
    "#     mask_of_points_3 = cv2.dilate(np.uint8(mask_of_points_3*255),kernel,iterations = 1)\n",
    "#     # marker_blue = cv2.dilate(np.uint8(marker_blue*255),kernel,iterations = 1)\n",
    "#\n",
    "#     return mask_of_points_0, mask_of_points_1, mask_of_points_2, mask_of_points_3\n"
   ],
   "metadata": {
    "collapsed": false,
    "ExecuteTime": {
     "end_time": "2024-01-05T08:05:12.048447Z",
     "start_time": "2024-01-05T08:05:12.016309Z"
    }
   }
  },
  {
   "cell_type": "code",
   "execution_count": 8,
   "outputs": [],
   "source": [
    "def frame_eval_and_draw(frame):\n",
    "    \"\"\"\n",
    "    Process the input frame to detect markers, calculate angles, and visualize results.\n",
    "\n",
    "    Parameters:\n",
    "    - frame: Input image frame in RGB color space.\n",
    "    - swap: Boolean indicating whether to swap the colors of markers.\n",
    "\n",
    "    Returns:\n",
    "    - Dictionary containing processed frame and various calculated points and angles.\n",
    "    \"\"\"\n",
    "    # Convert the input frame to the CIELAB color space\n",
    "    cielab_frame = cv2.cvtColor(frame, cv2.COLOR_RGB2Lab)\n",
    "\n",
    "    # Segment markers by color in the CIELAB color space\n",
    "    marker_yellow, marker_pink, marker_green, marker_blue = CvHelper.segment_marker_by_color(cielab_frame, video_metadata[\"color_of_point\"])\n",
    "\n",
    "    # Create a stack of masks for each color marker\n",
    "    masks = np.stack([marker_yellow, marker_pink, marker_green, marker_blue], axis=0)\n",
    "\n",
    "    # Define color names for visualization\n",
    "    colors_name = [\"yellow\", \"pink\", \"green\", \"blue\"]\n",
    "\n",
    "    # Initialize a list to store points per frame\n",
    "    point_per_frame = []\n",
    "\n",
    "    # Initialize the direction vector for the first line\n",
    "    direction_vector_0_1 = None\n",
    "\n",
    "    # Iterate over each color marker\n",
    "    for mask, thr, color, color_name, direction_vector in zip(\n",
    "            masks, threshold_area_size, colors, colors_name, [direction_vector_0_1, None, None, None]\n",
    "    ):\n",
    "        # Convert the mask to uint8\n",
    "        mask = np.uint8(mask)\n",
    "\n",
    "        # Find connected components in the mask\n",
    "        num_labels, labels, stats, centroids = cv2.connectedComponentsWithStats(mask)\n",
    "\n",
    "        # Filter regions based on area threshold\n",
    "        filtered_regions = [index for index, stat in enumerate(stats[1:]) if stat[4] >= thr]\n",
    "\n",
    "        # Initialize a list to store points per mask\n",
    "        point_per_mask = []\n",
    "\n",
    "        # Iterate over filtered regions in the mask\n",
    "        for idx, index in enumerate(filtered_regions):\n",
    "            # Access region properties from the stats array\n",
    "            left, top, width, height, area = stats[index + 1]\n",
    "\n",
    "            # Calculate the centroid\n",
    "            centroid_x, centroid_y = int(left + width / 2), int(top + height / 2)\n",
    "\n",
    "            # Append the centroid to the list of points for the mask\n",
    "            point_per_mask.append((centroid_x, centroid_y))\n",
    "\n",
    "        try:\n",
    "            # If direction vector is not initialized, calculate it from the first two points\n",
    "            if direction_vector is None:\n",
    "                direction_vector = CvHelper.calculate_vector_direction(point_per_mask[1], point_per_mask[0])\n",
    "        except Exception as e:\n",
    "            print(e)\n",
    "            print(color_name)\n",
    "            print(point_per_mask)\n",
    "            print(filtered_regions)\n",
    "\n",
    "        # Append the points for the current mask to the list of points per frame\n",
    "        point_per_frame.append(point_per_mask)\n",
    "\n",
    "    # Find the intersection point\n",
    "    intersection_point_0 = CvHelper.find_intersection(point_per_frame[0][0], point_per_frame[0][1], point_per_frame[1][0], point_per_frame[1][1])\n",
    "    intersection_point_1 = CvHelper.find_intersection(point_per_frame[1][0], point_per_frame[1][1], point_per_frame[2][0], point_per_frame[2][1])\n",
    "    intersection_point_2 = CvHelper.find_intersection(point_per_frame[2][0], point_per_frame[2][1], point_per_frame[3][0], point_per_frame[3][1])\n",
    "\n",
    "    # Here is calculated that tip point must be selected as intersections point\n",
    "    if CvHelper.calculate_euclidean_distance(point_per_frame[3][0], point_per_frame[0][0]) < CvHelper.calculate_euclidean_distance(point_per_frame[3][0], point_per_frame[0][1]):\n",
    "        trajectory_point_0_b = point_per_frame[0][0]\n",
    "        trajectory_point_0_a = point_per_frame[0][1]\n",
    "    else:\n",
    "        trajectory_point_0_b = point_per_frame[0][1]\n",
    "        trajectory_point_0_a = point_per_frame[0][0]\n",
    "\n",
    "    if CvHelper.calculate_euclidean_distance(point_per_frame[0][0], point_per_frame[1][0]) > CvHelper.calculate_euclidean_distance(point_per_frame[0][0], point_per_frame[1][1]):\n",
    "        trajectory_point_1_b = point_per_frame[1][0]\n",
    "        trajectory_point_1_a = point_per_frame[1][1]\n",
    "    else:\n",
    "        trajectory_point_1_b = point_per_frame[1][1]\n",
    "        trajectory_point_1_a = point_per_frame[1][0]\n",
    "\n",
    "    if CvHelper.calculate_euclidean_distance(point_per_frame[2][0], point_per_frame[3][0]) > CvHelper.calculate_euclidean_distance(point_per_frame[2][0], point_per_frame[3][1]):\n",
    "        trajectory_point_3_b = point_per_frame[3][0]\n",
    "        trajectory_point_3_a = point_per_frame[3][1]\n",
    "    else:\n",
    "        trajectory_point_3_b = point_per_frame[3][1]\n",
    "        trajectory_point_3_a = point_per_frame[3][0]\n",
    "\n",
    "    if CvHelper.calculate_euclidean_distance(point_per_frame[1][0], point_per_frame[2][0]) > CvHelper.calculate_euclidean_distance(point_per_frame[1][0], point_per_frame[2][1]):\n",
    "        trajectory_point_2_b = point_per_frame[2][0]\n",
    "        trajectory_point_2_a = point_per_frame[2][1]\n",
    "    else:\n",
    "        trajectory_point_2_b = point_per_frame[2][1]\n",
    "        trajectory_point_2_a = point_per_frame[2][0]\n",
    "\n",
    "\n",
    "    # Calculate angles between consecutive lines\n",
    "    angle_0 = CvHelper.calculate_angle(point_per_frame[0], point_per_frame[1])\n",
    "    angle_1 = CvHelper.calculate_angle(point_per_frame[1], point_per_frame[2])\n",
    "    angle_2 = CvHelper.calculate_angle(point_per_frame[2], point_per_frame[3])\n",
    "\n",
    "    if np.isnan(angle_0):\n",
    "        angle_0 = -1\n",
    "    if np.isnan(angle_1):\n",
    "        angle_1 = -1\n",
    "    if np.isnan(angle_2):\n",
    "        angle_2 = -1\n",
    "\n",
    "    # Return the processed frame and calculated values\n",
    "    return {\n",
    "        \"frame\": frame,\n",
    "        \"angle_0\": angle_0,\n",
    "        \"angle_1\": angle_1,\n",
    "        \"angle_2\": angle_2,\n",
    "        \"trajectory_point_0_a\": trajectory_point_0_a,\n",
    "        \"trajectory_point_0_b\": trajectory_point_0_b,\n",
    "        \"trajectory_point_1_a\": trajectory_point_1_a,\n",
    "        \"trajectory_point_1_b\": trajectory_point_1_b,\n",
    "        \"trajectory_point_2_a\": trajectory_point_2_a,\n",
    "        \"trajectory_point_2_b\": trajectory_point_2_b,\n",
    "        \"trajectory_point_3_a\": trajectory_point_3_a,\n",
    "        \"trajectory_point_3_b\": trajectory_point_3_b,\n",
    "        \"intersection_point_0\": intersection_point_0,\n",
    "        \"intersection_point_1\": intersection_point_1,\n",
    "        \"intersection_point_2\": intersection_point_2,\n",
    "    }\n"
   ],
   "metadata": {
    "collapsed": false,
    "ExecuteTime": {
     "end_time": "2024-01-05T08:05:12.364538Z",
     "start_time": "2024-01-05T08:05:12.157711Z"
    }
   }
  },
  {
   "cell_type": "markdown",
   "source": [
    "# Main logic"
   ],
   "metadata": {
    "collapsed": false
   }
  },
  {
   "cell_type": "code",
   "execution_count": 10,
   "outputs": [
    {
     "name": "stderr",
     "output_type": "stream",
     "text": [
      "[ WARN:0@1.938] global /private/var/folders/nz/j6p8yfhx1mv_0grj5xl4650h0000gp/T/abs_562_cazh1h/croots/recipe/opencv-suite_1664548333142/work/modules/videoio/src/cap_gstreamer.cpp (2386) handleMessage OpenCV | GStreamer warning: your GStreamer installation is missing a required plugin\n",
      "[ WARN:0@1.938] global /private/var/folders/nz/j6p8yfhx1mv_0grj5xl4650h0000gp/T/abs_562_cazh1h/croots/recipe/opencv-suite_1664548333142/work/modules/videoio/src/cap_gstreamer.cpp (2402) handleMessage OpenCV | GStreamer warning: Embedded video playback halted; module uridecodebin0 reported: Your GStreamer installation is missing a plug-in.\n",
      "[ WARN:0@1.938] global /private/var/folders/nz/j6p8yfhx1mv_0grj5xl4650h0000gp/T/abs_562_cazh1h/croots/recipe/opencv-suite_1664548333142/work/modules/videoio/src/cap_gstreamer.cpp (1356) open OpenCV | GStreamer warning: unable to start pipeline\n",
      "[ WARN:0@1.938] global /private/var/folders/nz/j6p8yfhx1mv_0grj5xl4650h0000gp/T/abs_562_cazh1h/croots/recipe/opencv-suite_1664548333142/work/modules/videoio/src/cap_gstreamer.cpp (862) isPipelinePlaying OpenCV | GStreamer warning: GStreamer: pipeline have not been created\n"
     ]
    },
    {
     "ename": "KeyboardInterrupt",
     "evalue": "",
     "output_type": "error",
     "traceback": [
      "\u001B[0;31m---------------------------------------------------------------------------\u001B[0m",
      "\u001B[0;31mKeyboardInterrupt\u001B[0m                         Traceback (most recent call last)",
      "Input \u001B[0;32mIn [10]\u001B[0m, in \u001B[0;36m<cell line: 38>\u001B[0;34m()\u001B[0m\n\u001B[1;32m     49\u001B[0m bckp_frame \u001B[38;5;241m=\u001B[39m frame\u001B[38;5;241m.\u001B[39mcopy()\n\u001B[1;32m     51\u001B[0m \u001B[38;5;66;03m# Abalyze frame and append data\u001B[39;00m\n\u001B[0;32m---> 52\u001B[0m frame_data_json \u001B[38;5;241m=\u001B[39m \u001B[43mframe_eval_and_draw\u001B[49m\u001B[43m(\u001B[49m\u001B[43mframe\u001B[49m\u001B[43m)\u001B[49m\n\u001B[1;32m     53\u001B[0m frame_data_json_without_frame \u001B[38;5;241m=\u001B[39m frame_data_json\u001B[38;5;241m.\u001B[39mcopy()\n\u001B[1;32m     54\u001B[0m frame_data_json_without_frame\u001B[38;5;241m.\u001B[39mpop(\u001B[38;5;124m\"\u001B[39m\u001B[38;5;124mframe\u001B[39m\u001B[38;5;124m\"\u001B[39m)\n",
      "Input \u001B[0;32mIn [8]\u001B[0m, in \u001B[0;36mframe_eval_and_draw\u001B[0;34m(frame)\u001B[0m\n\u001B[1;32m     13\u001B[0m cielab_frame \u001B[38;5;241m=\u001B[39m cv2\u001B[38;5;241m.\u001B[39mcvtColor(frame, cv2\u001B[38;5;241m.\u001B[39mCOLOR_RGB2Lab)\n\u001B[1;32m     15\u001B[0m \u001B[38;5;66;03m# Segment markers by color in the CIELAB color space\u001B[39;00m\n\u001B[0;32m---> 16\u001B[0m marker_yellow, marker_pink, marker_green, marker_blue \u001B[38;5;241m=\u001B[39m \u001B[43mCvHelper\u001B[49m\u001B[38;5;241;43m.\u001B[39;49m\u001B[43msegment_marker_by_color\u001B[49m\u001B[43m(\u001B[49m\u001B[43mcielab_frame\u001B[49m\u001B[43m,\u001B[49m\u001B[43m \u001B[49m\u001B[43mvideo_metadata\u001B[49m\u001B[43m[\u001B[49m\u001B[38;5;124;43m\"\u001B[39;49m\u001B[38;5;124;43mcolor_of_point\u001B[39;49m\u001B[38;5;124;43m\"\u001B[39;49m\u001B[43m]\u001B[49m\u001B[43m)\u001B[49m\n\u001B[1;32m     18\u001B[0m \u001B[38;5;66;03m# Create a stack of masks for each color marker\u001B[39;00m\n\u001B[1;32m     19\u001B[0m masks \u001B[38;5;241m=\u001B[39m np\u001B[38;5;241m.\u001B[39mstack([marker_yellow, marker_pink, marker_green, marker_blue], axis\u001B[38;5;241m=\u001B[39m\u001B[38;5;241m0\u001B[39m)\n",
      "File \u001B[0;32m~/Documents/KKUI/waseda_projects/Finger-angle-measurement/cv_helper.py:246\u001B[0m, in \u001B[0;36mCvHelper.segment_marker_by_color\u001B[0;34m(frame_tmp, video_color_metadata)\u001B[0m\n\u001B[1;32m    236\u001B[0m mask_of_points_1 \u001B[38;5;241m=\u001B[39m (a_channel \u001B[38;5;241m>\u001B[39m video_color_metadata[\u001B[38;5;124m\"\u001B[39m\u001B[38;5;124mpoint_1\u001B[39m\u001B[38;5;124m\"\u001B[39m][\u001B[38;5;124m\"\u001B[39m\u001B[38;5;124ma_down\u001B[39m\u001B[38;5;124m\"\u001B[39m]) \u001B[38;5;241m&\u001B[39m \\\n\u001B[1;32m    237\u001B[0m                    (a_channel \u001B[38;5;241m<\u001B[39m video_color_metadata[\u001B[38;5;124m\"\u001B[39m\u001B[38;5;124mpoint_1\u001B[39m\u001B[38;5;124m\"\u001B[39m][\u001B[38;5;124m\"\u001B[39m\u001B[38;5;124ma_up\u001B[39m\u001B[38;5;124m\"\u001B[39m]) \u001B[38;5;241m&\u001B[39m \\\n\u001B[1;32m    238\u001B[0m                    (b_channel \u001B[38;5;241m>\u001B[39m video_color_metadata[\u001B[38;5;124m\"\u001B[39m\u001B[38;5;124mpoint_1\u001B[39m\u001B[38;5;124m\"\u001B[39m][\u001B[38;5;124m\"\u001B[39m\u001B[38;5;124mb_down\u001B[39m\u001B[38;5;124m\"\u001B[39m]) \u001B[38;5;241m&\u001B[39m \\\n\u001B[1;32m    239\u001B[0m                    (b_channel \u001B[38;5;241m<\u001B[39m video_color_metadata[\u001B[38;5;124m\"\u001B[39m\u001B[38;5;124mpoint_1\u001B[39m\u001B[38;5;124m\"\u001B[39m][\u001B[38;5;124m\"\u001B[39m\u001B[38;5;124mb_up\u001B[39m\u001B[38;5;124m\"\u001B[39m])  \u001B[38;5;66;03m# points 1\u001B[39;00m\n\u001B[1;32m    241\u001B[0m mask_of_points_2 \u001B[38;5;241m=\u001B[39m (a_channel \u001B[38;5;241m>\u001B[39m video_color_metadata[\u001B[38;5;124m\"\u001B[39m\u001B[38;5;124mpoint_2\u001B[39m\u001B[38;5;124m\"\u001B[39m][\u001B[38;5;124m\"\u001B[39m\u001B[38;5;124ma_down\u001B[39m\u001B[38;5;124m\"\u001B[39m]) \u001B[38;5;241m&\u001B[39m \\\n\u001B[1;32m    242\u001B[0m                    (a_channel \u001B[38;5;241m<\u001B[39m video_color_metadata[\u001B[38;5;124m\"\u001B[39m\u001B[38;5;124mpoint_2\u001B[39m\u001B[38;5;124m\"\u001B[39m][\u001B[38;5;124m\"\u001B[39m\u001B[38;5;124ma_up\u001B[39m\u001B[38;5;124m\"\u001B[39m]) \u001B[38;5;241m&\u001B[39m \\\n\u001B[1;32m    243\u001B[0m                    (b_channel \u001B[38;5;241m>\u001B[39m video_color_metadata[\u001B[38;5;124m\"\u001B[39m\u001B[38;5;124mpoint_2\u001B[39m\u001B[38;5;124m\"\u001B[39m][\u001B[38;5;124m\"\u001B[39m\u001B[38;5;124mb_down\u001B[39m\u001B[38;5;124m\"\u001B[39m]) \u001B[38;5;241m&\u001B[39m \\\n\u001B[1;32m    244\u001B[0m                    (b_channel \u001B[38;5;241m<\u001B[39m video_color_metadata[\u001B[38;5;124m\"\u001B[39m\u001B[38;5;124mpoint_2\u001B[39m\u001B[38;5;124m\"\u001B[39m][\u001B[38;5;124m\"\u001B[39m\u001B[38;5;124mb_up\u001B[39m\u001B[38;5;124m\"\u001B[39m])  \u001B[38;5;66;03m# points 2\u001B[39;00m\n\u001B[0;32m--> 246\u001B[0m mask_of_points_3 \u001B[38;5;241m=\u001B[39m \u001B[43m(\u001B[49m\u001B[43ma_channel\u001B[49m\u001B[43m \u001B[49m\u001B[38;5;241;43m>\u001B[39;49m\u001B[43m \u001B[49m\u001B[43mvideo_color_metadata\u001B[49m\u001B[43m[\u001B[49m\u001B[38;5;124;43m\"\u001B[39;49m\u001B[38;5;124;43mpoint_3\u001B[39;49m\u001B[38;5;124;43m\"\u001B[39;49m\u001B[43m]\u001B[49m\u001B[43m[\u001B[49m\u001B[38;5;124;43m\"\u001B[39;49m\u001B[38;5;124;43ma_down\u001B[39;49m\u001B[38;5;124;43m\"\u001B[39;49m\u001B[43m]\u001B[49m\u001B[43m)\u001B[49m\u001B[43m \u001B[49m\u001B[38;5;241;43m&\u001B[39;49m\u001B[43m \u001B[49m\u001B[43m\\\u001B[49m\n\u001B[1;32m    247\u001B[0m \u001B[43m                   \u001B[49m\u001B[43m(\u001B[49m\u001B[43ma_channel\u001B[49m\u001B[43m \u001B[49m\u001B[38;5;241;43m<\u001B[39;49m\u001B[43m \u001B[49m\u001B[43mvideo_color_metadata\u001B[49m\u001B[43m[\u001B[49m\u001B[38;5;124;43m\"\u001B[39;49m\u001B[38;5;124;43mpoint_3\u001B[39;49m\u001B[38;5;124;43m\"\u001B[39;49m\u001B[43m]\u001B[49m\u001B[43m[\u001B[49m\u001B[38;5;124;43m\"\u001B[39;49m\u001B[38;5;124;43ma_up\u001B[39;49m\u001B[38;5;124;43m\"\u001B[39;49m\u001B[43m]\u001B[49m\u001B[43m)\u001B[49m \u001B[38;5;241m&\u001B[39m \\\n\u001B[1;32m    248\u001B[0m                    (b_channel \u001B[38;5;241m>\u001B[39m video_color_metadata[\u001B[38;5;124m\"\u001B[39m\u001B[38;5;124mpoint_3\u001B[39m\u001B[38;5;124m\"\u001B[39m][\u001B[38;5;124m\"\u001B[39m\u001B[38;5;124mb_down\u001B[39m\u001B[38;5;124m\"\u001B[39m]) \u001B[38;5;241m&\u001B[39m \\\n\u001B[1;32m    249\u001B[0m                    (b_channel \u001B[38;5;241m<\u001B[39m video_color_metadata[\u001B[38;5;124m\"\u001B[39m\u001B[38;5;124mpoint_3\u001B[39m\u001B[38;5;124m\"\u001B[39m][\u001B[38;5;124m\"\u001B[39m\u001B[38;5;124mb_up\u001B[39m\u001B[38;5;124m\"\u001B[39m])  \u001B[38;5;66;03m# points 3\u001B[39;00m\n\u001B[1;32m    251\u001B[0m \u001B[38;5;66;03m# Dilate masks to enhance segmentation\u001B[39;00m\n\u001B[1;32m    252\u001B[0m kernel \u001B[38;5;241m=\u001B[39m np\u001B[38;5;241m.\u001B[39mones((\u001B[38;5;241m5\u001B[39m, \u001B[38;5;241m5\u001B[39m), np\u001B[38;5;241m.\u001B[39muint8)\n",
      "\u001B[0;31mKeyboardInterrupt\u001B[0m: "
     ]
    }
   ],
   "source": [
    "import cv2\n",
    "import time\n",
    "lookup_shape = (720,1080)\n",
    "frameref_ms = int(time.time()*1000)\n",
    "frametime_ms = int(1000/29.98)\n",
    "# Add the necessary functions for main_function and add_text_to_frame\n",
    "frame_shift = 0\n",
    "measure = []  # for storing angles\n",
    "frames_to_store = []\n",
    "cnt = frame_shift  # for storing frame count\n",
    "paused = False\n",
    "# Initialize variables\n",
    "frame_count = 30\n",
    "alpha = 0.01  # Adjust this value for the ghosting effect\n",
    "accumulated_frame = None\n",
    "line = False\n",
    "ghost = False\n",
    "line_windows_1 = True\n",
    "point_windows_1 = True\n",
    "\n",
    "\n",
    "cap = cv2.VideoCapture(video_path)\n",
    "\n",
    "cap.set(cv2.CAP_PROP_POS_FRAMES, frame_shift)\n",
    "# cap.set(cv2.CAP_PROP_FPS, 29.98)\n",
    "\n",
    "if not cap.isOpened():\n",
    "    print(\"Error: Could not open the video file.\")\n",
    "    exit()\n",
    "\n",
    "# Create a window to display the frames\n",
    "cv2.namedWindow('Video Preview', cv2.WINDOW_NORMAL)\n",
    "\n",
    "\n",
    "\n",
    "\n",
    "while True:\n",
    "    frameref_ms += frametime_ms\n",
    "    # print(cnt)\n",
    "    strt = time.time()\n",
    "\n",
    "    if not paused:\n",
    "        ret, frame = cap.read()\n",
    "        if not ret:\n",
    "            print(\"ERRUR\")\n",
    "            print(cap.get(cv2.CAP_PROP_POS_FRAMES))\n",
    "            break\n",
    "\n",
    "        bckp_frame = frame.copy()\n",
    "\n",
    "        # Abalyze frame and append data\n",
    "        frame_data_json = frame_eval_and_draw(frame)\n",
    "        frame_data_json_without_frame = frame_data_json.copy()\n",
    "        frame_data_json_without_frame.pop(\"frame\")\n",
    "        frame_data_json_without_frame[\"frame\"] = cnt\n",
    "        measure.append(frame_data_json_without_frame)\n",
    "\n",
    "\n",
    "# Add text to the frame\n",
    "        frame = CvHelper.add_text_to_frame(frame, str(cap.get(1)), position=text_position_cnt, font_scale=font_scale)\n",
    "\n",
    "        if line_windows_1:\n",
    "            point0, point1 = CvHelper.line_padding(frame_data_json[\"trajectory_point_0_a\"],frame_data_json[\"trajectory_point_0_b\"],2)\n",
    "            frame = cv2.line(frame, point0, point1, colors[0], 3)\n",
    "            point0, point1 = CvHelper.line_padding(frame_data_json[\"trajectory_point_1_a\"],frame_data_json[\"trajectory_point_1_b\"],3)\n",
    "            frame = cv2.line(frame, point0, point1, colors[1], 3)\n",
    "            point0, point1 = CvHelper.line_padding(frame_data_json[\"trajectory_point_2_a\"],frame_data_json[\"trajectory_point_2_b\"],3)\n",
    "            frame = cv2.line(frame, point0, point1, colors[2], 3)\n",
    "            point0, point1 = CvHelper.line_padding(frame_data_json[\"trajectory_point_3_a\"],frame_data_json[\"trajectory_point_3_b\"],3)\n",
    "            frame = cv2.line(frame, point0, point1, colors[3], 3)\n",
    "\n",
    "        point_size = 7\n",
    "        if point_windows_1:\n",
    "            frame = cv2.circle(frame, frame_data_json[\"trajectory_point_0_a\"], point_size, colors[0], -1)\n",
    "            frame = cv2.circle(frame, frame_data_json[\"trajectory_point_0_b\"], point_size, colors[0], -1)\n",
    "            frame = cv2.circle(frame, frame_data_json[\"trajectory_point_1_a\"], point_size, colors[1], -1)\n",
    "            frame = cv2.circle(frame, frame_data_json[\"trajectory_point_1_b\"], point_size, colors[1], -1)\n",
    "            frame = cv2.circle(frame, frame_data_json[\"trajectory_point_2_a\"], point_size, colors[2], -1)\n",
    "            frame = cv2.circle(frame, frame_data_json[\"trajectory_point_2_b\"], point_size, colors[2], -1)\n",
    "            frame = cv2.circle(frame, frame_data_json[\"trajectory_point_3_a\"], point_size, colors[3], -1)\n",
    "            frame = cv2.circle(frame, frame_data_json[\"trajectory_point_3_b\"], point_size, colors[3], -1)\n",
    "            # Draw the intersection point\n",
    "            # cv2.circle(frame, intersection_point_0, 2, (255, 255, 255), -1)\n",
    "            # cv2.circle(frame, intersection_point_1, 2, (255, 255, 255), -1)\n",
    "            # cv2.circle(frame, intersection_point_2, 2, (255, 255, 255), -1)\n",
    "\n",
    "\n",
    "\n",
    "\n",
    "\n",
    "        rotated_points = CvHelper.rotate_frame_tracked_points(frame_data_json[\"trajectory_point_0_a\"],\n",
    "                                                              frame_data_json[\"trajectory_point_0_b\"],\n",
    "                                                              frame_data_json[\"trajectory_point_1_b\"],\n",
    "                                                              frame_data_json[\"trajectory_point_2_b\"],\n",
    "                                                              frame_data_json[\"trajectory_point_3_b\"])\n",
    "\n",
    "\n",
    "\n",
    "\n",
    "        frame2 = np.zeros((lookup_shape[0],lookup_shape[1],3))\n",
    "        rotated_points[:,0] = rotated_points[:,0] + int(lookup_shape[1] / 2)\n",
    "        rotated_points[:,1] = rotated_points[:,1] + int(lookup_shape[0] / 2)\n",
    "\n",
    "\n",
    "        rotated_points = rotated_points.astype(int)\n",
    "\n",
    "\n",
    "        cv2.circle(frame2, rotated_points[0], 5, colors[0], -1)\n",
    "        cv2.circle(frame2, rotated_points[1], 5, colors[1], -1)\n",
    "        cv2.circle(frame2, rotated_points[2], 5, colors[2], -1)\n",
    "        cv2.circle(frame2, rotated_points[3], 5, colors[3], -1)\n",
    "\n",
    "        # Create a copy of the frame to modify for ghosting\n",
    "\n",
    "        ghost_frame = frame2.copy()\n",
    "\n",
    "        # Draw the circles on the ghost frame\n",
    "        cv2.circle(ghost_frame, rotated_points[0], 3, colors[0], -1)\n",
    "        cv2.circle(ghost_frame, rotated_points[1], 3, colors[1], -1)\n",
    "        cv2.circle(ghost_frame, rotated_points[2], 3, colors[2], -1)\n",
    "        cv2.circle(ghost_frame, rotated_points[3], 3, colors[3], -1)\n",
    "\n",
    "        # AGNLE PRINTING\n",
    "        frame = CvHelper.add_text_to_frame(frame, \"ANGLE 0: {}\".format(int(frame_data_json[\"angle_0\"])), position=(900, 400), font_scale=0.5, thickness=2, color=(255, 255, 0))\n",
    "        frame = CvHelper.add_text_to_frame(frame, \"ANGLE 1: {}\".format(int(frame_data_json[\"angle_1\"])), position=(900, 420), font_scale=0.5, thickness=2, color=(255, 255, 0))\n",
    "        frame = CvHelper.add_text_to_frame(frame, \"ANGLE 2: {}\".format(int(frame_data_json[\"angle_2\"])), position=(900, 440), font_scale=0.5, thickness=2, color=(255, 255, 0))\n",
    "\n",
    "\n",
    "        # Accumulate the current frame with the previous frames\n",
    "        if accumulated_frame is None:\n",
    "            accumulated_frame = ghost_frame\n",
    "        else:\n",
    "            accumulated_frame = cv2.addWeighted(accumulated_frame, 1 - alpha, ghost_frame, alpha, 0)\n",
    "\n",
    "        # Visualize the line connecting the two points\n",
    "        if ghost:\n",
    "            final_frame = accumulated_frame.copy()\n",
    "        else:\n",
    "            final_frame = frame2.copy()\n",
    "        if line:\n",
    "            cv2.line(final_frame, rotated_points[0], rotated_points[1], (255,255,255), 3)\n",
    "            cv2.line(final_frame, rotated_points[1], rotated_points[2], (255,255,255), 3)\n",
    "            cv2.line(final_frame, rotated_points[2], rotated_points[3], (255,255,255), 3)\n",
    "    # Draw the joint point\n",
    "        # Calculate and add time information\n",
    "        end = time.time()\n",
    "        frame = CvHelper.add_text_to_frame(frame, str(end - strt), position=text_position_time, font_scale=font_scale)\n",
    "\n",
    "        cv2.imshow('Video Preview', frame)\n",
    "        # cv2.imshow('Tracked point',np.resize(frame2,(int(lookup_shape[0] / 4),int(lookup_shape[1] / 4))))\n",
    "        cv2.imshow('Tracked point',final_frame)\n",
    "        # frames_to_store.append(frame.copy())\n",
    "        cnt += 1\n",
    "\n",
    "    # key = cv2.waitKeyEx(frameref_ms-int(time.time()*1000))  & 0xFF # Use cv2.waitKeyEx to capture arrow key presses\n",
    "    key = cv2.waitKeyEx(1)  # Use cv2.waitKeyEx to capture arrow key presses\n",
    "\n",
    "    if key == 27:  # Press 'Esc' to exit\n",
    "        break\n",
    "    elif key == 32:  # Press 'Space' to pause/unpause\n",
    "        paused = not paused\n",
    "    elif key == 103:  # Press 'Space' to pause/unpause\n",
    "        print(\"press G\")\n",
    "        if ghost:\n",
    "            ghost = False\n",
    "        else:\n",
    "            ghost = True\n",
    "    elif key == 108:  # Press 'Space' to pause/unpause\n",
    "        print(\"press L\")\n",
    "        if line:\n",
    "            line = False\n",
    "        else:\n",
    "            line = True\n",
    "    elif key == 112:  # Press 'Space' to pause/unpause\n",
    "        print(\"press P\")\n",
    "        if point_windows_1:\n",
    "            point_windows_1 = False\n",
    "        else:\n",
    "            point_windows_1 = True\n",
    "    elif key == 107:  # Press 'Space' to pause/unpause\n",
    "        print(\"press K\")\n",
    "        if line_windows_1:\n",
    "            line_windows_1 = False\n",
    "        else:\n",
    "            line_windows_1 = True\n",
    "    elif key == 97:  # Press left arrow key to move backward\n",
    "        cap.set(cv2.CAP_PROP_POS_FRAMES, max(0, cnt - 2))\n",
    "        cnt -= 2\n",
    "    elif key == 100:  # Press right arrow key to move forward\n",
    "        cap.set(cv2.CAP_PROP_POS_FRAMES, cnt)\n",
    "    elif key == 65364:  # Press down arrow key to move forward faster\n",
    "        cap.set(cv2.CAP_PROP_POS_FRAMES, min(cap.get(cv2.CAP_PROP_FRAME_COUNT) - 1, cnt + 30))\n",
    "        cnt += 30\n",
    "\n",
    "cap.release()\n",
    "cv2.destroyAllWindows()\n"
   ],
   "metadata": {
    "collapsed": false,
    "ExecuteTime": {
     "end_time": "2024-01-05T08:05:18.192858Z",
     "start_time": "2024-01-05T08:05:12.622507Z"
    }
   }
  },
  {
   "cell_type": "code",
   "execution_count": null,
   "outputs": [],
   "source": [
    "# plt.figure(figsize=(20,20))\n",
    "# plt.imshow(cv2.cvtColor(bckp_frame, cv2.COLOR_BGR2RGB))"
   ],
   "metadata": {
    "collapsed": false
   }
  },
  {
   "cell_type": "code",
   "execution_count": null,
   "outputs": [],
   "source": [
    "# plt.imshow(a)"
   ],
   "metadata": {
    "collapsed": false
   }
  },
  {
   "cell_type": "code",
   "execution_count": null,
   "outputs": [],
   "source": [
    "# plt.imshow(b)"
   ],
   "metadata": {
    "collapsed": false
   }
  },
  {
   "cell_type": "code",
   "execution_count": null,
   "outputs": [],
   "source": [
    "# plt.imshow(L)\n",
    "# plt.imshow(bckp_frame* np.stack([marker_yellow,marker_yellow,marker_yellow] ,axis=2))"
   ],
   "metadata": {
    "collapsed": false
   }
  },
  {
   "cell_type": "markdown",
   "source": [
    "## Store processed video"
   ],
   "metadata": {
    "collapsed": false
   }
  },
  {
   "cell_type": "code",
   "execution_count": null,
   "outputs": [],
   "source": [
    "# # Store the video with updated frames\n",
    "# output_video_path = os.path.join(output_folder_video,f\"{video_name}.mp4\")  # Set the desired output video path\n",
    "# store_video(frames_to_store, output_video_path, set_fps)"
   ],
   "metadata": {
    "collapsed": false
   }
  },
  {
   "cell_type": "markdown",
   "source": [
    "## Store csv - raw_angles"
   ],
   "metadata": {
    "collapsed": false
   }
  },
  {
   "cell_type": "code",
   "execution_count": 55,
   "outputs": [
    {
     "data": {
      "text/plain": "[{'angle_0': 178.89454326098996,\n  'angle_1': 119.0165843438658,\n  'angle_2': 161.91101781210654,\n  'trajectory_point_0_a': (328, 645),\n  'trajectory_point_0_b': (431, 502),\n  'trajectory_point_1_a': (1228, 68),\n  'trajectory_point_1_b': (1246, 44),\n  'trajectory_point_2_a': (673, 374),\n  'trajectory_point_2_b': (644, 370),\n  'trajectory_point_3_a': (725, 391),\n  'trajectory_point_3_b': (762, 409),\n  'intersection_point_0': (-10995, 16366),\n  'intersection_point_1': (967, 414),\n  'intersection_point_2': (696, 377),\n  'frame': 0},\n {'angle_0': 220.24904691637872,\n  'angle_1': 77.66208068847715,\n  'angle_2': 163.17645013164116,\n  'trajectory_point_0_a': (328, 645),\n  'trajectory_point_0_b': (431, 502),\n  'trajectory_point_1_a': (1228, 68),\n  'trajectory_point_1_b': (1224, 17),\n  'trajectory_point_2_a': (673, 374),\n  'trajectory_point_2_b': (644, 370),\n  'trajectory_point_3_a': (725, 391),\n  'trajectory_point_3_b': (762, 408),\n  'intersection_point_0': (1180, -538),\n  'intersection_point_1': (1258, 454),\n  'intersection_point_2': (694, 376),\n  'frame': 1},\n {'angle_0': 54.490228752106646,\n  'angle_1': 63.42089885274922,\n  'angle_2': 163.17645013164116,\n  'trajectory_point_0_a': (328, 645),\n  'trajectory_point_0_b': (431, 502),\n  'trajectory_point_1_a': (1270, 180),\n  'trajectory_point_1_b': (1230, 62),\n  'trajectory_point_2_a': (673, 374),\n  'trajectory_point_2_b': (644, 370),\n  'trajectory_point_3_a': (725, 391),\n  'trajectory_point_3_b': (762, 408),\n  'intersection_point_0': (1075, -393),\n  'intersection_point_1': (1368, 469),\n  'intersection_point_2': (694, 376),\n  'frame': 2},\n {'angle_0': 220.24904691637872,\n  'angle_1': 77.92075062186393,\n  'angle_2': 162.91778019825438,\n  'trajectory_point_0_a': (328, 645),\n  'trajectory_point_0_b': (431, 502),\n  'trajectory_point_1_a': (1228, 68),\n  'trajectory_point_1_b': (1224, 17),\n  'trajectory_point_2_a': (673, 374),\n  'trajectory_point_2_b': (643, 370),\n  'trajectory_point_3_a': (725, 391),\n  'trajectory_point_3_b': (762, 408),\n  'intersection_point_0': (1180, -538),\n  'intersection_point_1': (1258, 452),\n  'intersection_point_2': (694, 376),\n  'frame': 3},\n {'angle_0': 54.90670909830035,\n  'angle_1': 63.263088439942294,\n  'angle_2': 162.91778019825438,\n  'trajectory_point_0_a': (328, 645),\n  'trajectory_point_0_b': (431, 502),\n  'trajectory_point_1_a': (1270, 183),\n  'trajectory_point_1_b': (1228, 62),\n  'trajectory_point_2_a': (673, 374),\n  'trajectory_point_2_b': (643, 370),\n  'trajectory_point_3_a': (725, 391),\n  'trajectory_point_3_b': (762, 408),\n  'intersection_point_0': (1071, -387),\n  'intersection_point_1': (1368, 466),\n  'intersection_point_2': (694, 376),\n  'frame': 4},\n {'angle_0': 45.825130702157054,\n  'angle_1': 72.34466683608558,\n  'angle_2': 162.91778019825438,\n  'trajectory_point_0_a': (328, 645),\n  'trajectory_point_0_b': (431, 502),\n  'trajectory_point_1_a': (1228, 68),\n  'trajectory_point_1_b': (1217, 6),\n  'trajectory_point_2_a': (673, 374),\n  'trajectory_point_2_b': (643, 370),\n  'trajectory_point_3_a': (725, 391),\n  'trajectory_point_3_b': (762, 408),\n  'intersection_point_0': (1132, -471),\n  'intersection_point_1': (1297, 457),\n  'intersection_point_2': (694, 376),\n  'frame': 5},\n {'angle_0': 223.11682026672645,\n  'angle_1': 75.0529772715162,\n  'angle_2': 162.3169211330385,\n  'trajectory_point_0_a': (328, 645),\n  'trajectory_point_0_b': (431, 502),\n  'trajectory_point_1_a': (1228, 68),\n  'trajectory_point_1_b': (1220, 6),\n  'trajectory_point_2_a': (673, 374),\n  'trajectory_point_2_b': (643, 370),\n  'trajectory_point_3_a': (725, 391),\n  'trajectory_point_3_b': (761, 408),\n  'intersection_point_0': (1154, -502),\n  'intersection_point_1': (1277, 454),\n  'intersection_point_2': (695, 376),\n  'frame': 6},\n {'angle_0': 224.9267879525558,\n  'angle_1': 73.24300958568685,\n  'angle_2': 162.3169211330385,\n  'trajectory_point_0_a': (328, 645),\n  'trajectory_point_0_b': (431, 502),\n  'trajectory_point_1_a': (1229, 68),\n  'trajectory_point_1_b': (1219, 6),\n  'trajectory_point_2_a': (673, 374),\n  'trajectory_point_2_b': (643, 370),\n  'trajectory_point_3_a': (725, 391),\n  'trajectory_point_3_b': (761, 408),\n  'intersection_point_0': (1140, -482),\n  'intersection_point_1': (1291, 456),\n  'intersection_point_2': (695, 376),\n  'frame': 7},\n {'angle_0': 39.85005768680896,\n  'angle_1': 78.31973985143367,\n  'angle_2': 162.91778019825438,\n  'trajectory_point_0_a': (328, 645),\n  'trajectory_point_0_b': (431, 502),\n  'trajectory_point_1_a': (1224, 62),\n  'trajectory_point_1_b': (1220, 6),\n  'trajectory_point_2_a': (673, 374),\n  'trajectory_point_2_b': (643, 370),\n  'trajectory_point_3_a': (724, 391),\n  'trajectory_point_3_b': (761, 408),\n  'intersection_point_0': (1181, -539),\n  'intersection_point_1': (1251, 451),\n  'intersection_point_2': (692, 376),\n  'frame': 8},\n {'angle_0': 46.14028582688513,\n  'angle_1': 72.0295117113575,\n  'angle_2': 162.3169211330385,\n  'trajectory_point_0_a': (328, 645),\n  'trajectory_point_0_b': (431, 502),\n  'trajectory_point_1_a': (1233, 76),\n  'trajectory_point_1_b': (1220, 5),\n  'trajectory_point_2_a': (673, 374),\n  'trajectory_point_2_b': (643, 370),\n  'trajectory_point_3_a': (725, 391),\n  'trajectory_point_3_b': (761, 408),\n  'intersection_point_0': (1132, -472),\n  'intersection_point_1': (1302, 457),\n  'intersection_point_2': (695, 376),\n  'frame': 9},\n {'angle_0': 46.14028582688513,\n  'angle_1': 72.0295117113575,\n  'angle_2': 162.91778019825438,\n  'trajectory_point_0_a': (328, 645),\n  'trajectory_point_0_b': (431, 502),\n  'trajectory_point_1_a': (1233, 76),\n  'trajectory_point_1_b': (1220, 5),\n  'trajectory_point_2_a': (673, 374),\n  'trajectory_point_2_b': (643, 370),\n  'trajectory_point_3_a': (724, 391),\n  'trajectory_point_3_b': (761, 408),\n  'intersection_point_0': (1132, -472),\n  'intersection_point_1': (1302, 457),\n  'intersection_point_2': (692, 376),\n  'frame': 10},\n {'angle_0': 47.85919798384617,\n  'angle_1': 70.31059955439646,\n  'angle_2': 162.3169211330385,\n  'trajectory_point_0_a': (328, 645),\n  'trajectory_point_0_b': (431, 502),\n  'trajectory_point_1_a': (1233, 76),\n  'trajectory_point_1_b': (1218, 6),\n  'trajectory_point_2_a': (673, 374),\n  'trajectory_point_2_b': (643, 370),\n  'trajectory_point_3_a': (725, 391),\n  'trajectory_point_3_b': (761, 408),\n  'intersection_point_0': (1119, -453),\n  'intersection_point_1': (1315, 459),\n  'intersection_point_2': (695, 376),\n  'frame': 11},\n {'angle_0': 224.78376333821575,\n  'angle_1': 73.38603420002687,\n  'angle_2': 162.91778019825438,\n  'trajectory_point_0_a': (328, 645),\n  'trajectory_point_0_b': (431, 502),\n  'trajectory_point_1_a': (1228, 68),\n  'trajectory_point_1_b': (1218, 5),\n  'trajectory_point_2_a': (673, 374),\n  'trajectory_point_2_b': (643, 370),\n  'trajectory_point_3_a': (724, 391),\n  'trajectory_point_3_b': (761, 408),\n  'intersection_point_0': (1140, -483),\n  'intersection_point_1': (1289, 456),\n  'intersection_point_2': (692, 376),\n  'frame': 12},\n {'angle_0': 46.43422371133075,\n  'angle_1': 71.73557382691187,\n  'angle_2': 162.91778019825438,\n  'trajectory_point_0_a': (328, 645),\n  'trajectory_point_0_b': (431, 502),\n  'trajectory_point_1_a': (1233, 75),\n  'trajectory_point_1_b': (1220, 6),\n  'trajectory_point_2_a': (673, 374),\n  'trajectory_point_2_b': (643, 370),\n  'trajectory_point_3_a': (724, 391),\n  'trajectory_point_3_b': (761, 408),\n  'intersection_point_0': (1130, -469),\n  'intersection_point_1': (1305, 458),\n  'intersection_point_2': (692, 376),\n  'frame': 13},\n {'angle_0': 224.0238788867129,\n  'angle_1': 74.14591865152975,\n  'angle_2': 162.3169211330385,\n  'trajectory_point_0_a': (328, 645),\n  'trajectory_point_0_b': (431, 502),\n  'trajectory_point_1_a': (1229, 68),\n  'trajectory_point_1_b': (1220, 6),\n  'trajectory_point_2_a': (673, 374),\n  'trajectory_point_2_b': (643, 370),\n  'trajectory_point_3_a': (725, 391),\n  'trajectory_point_3_b': (761, 408),\n  'intersection_point_0': (1147, -492),\n  'intersection_point_1': (1285, 455),\n  'intersection_point_2': (695, 376),\n  'frame': 14},\n {'angle_0': 46.28522522070843,\n  'angle_1': 71.88457231753418,\n  'angle_2': 162.3169211330385,\n  'trajectory_point_0_a': (328, 645),\n  'trajectory_point_0_b': (431, 502),\n  'trajectory_point_1_a': (1233, 76),\n  'trajectory_point_1_b': (1220, 6),\n  'trajectory_point_2_a': (673, 374),\n  'trajectory_point_2_b': (643, 370),\n  'trajectory_point_3_a': (725, 391),\n  'trajectory_point_3_b': (761, 408),\n  'intersection_point_0': (1131, -470),\n  'intersection_point_1': (1303, 458),\n  'intersection_point_2': (695, 376),\n  'frame': 15},\n {'angle_0': 40.777554661869885,\n  'angle_1': 77.39224287637275,\n  'angle_2': 162.3169211330385,\n  'trajectory_point_0_a': (328, 645),\n  'trajectory_point_0_b': (431, 502),\n  'trajectory_point_1_a': (1224, 62),\n  'trajectory_point_1_b': (1219, 5),\n  'trajectory_point_2_a': (673, 374),\n  'trajectory_point_2_b': (643, 370),\n  'trajectory_point_3_a': (725, 391),\n  'trajectory_point_3_b': (761, 408),\n  'intersection_point_0': (1172, -527),\n  'intersection_point_1': (1258, 452),\n  'intersection_point_2': (695, 376),\n  'frame': 16},\n {'angle_0': 39.85005768680896,\n  'angle_1': 78.31973985143367,\n  'angle_2': 162.3169211330385,\n  'trajectory_point_0_a': (328, 645),\n  'trajectory_point_0_b': (431, 502),\n  'trajectory_point_1_a': (1224, 62),\n  'trajectory_point_1_b': (1220, 6),\n  'trajectory_point_2_a': (673, 374),\n  'trajectory_point_2_b': (643, 370),\n  'trajectory_point_3_a': (725, 391),\n  'trajectory_point_3_b': (761, 408),\n  'intersection_point_0': (1181, -539),\n  'intersection_point_1': (1251, 451),\n  'intersection_point_2': (695, 376),\n  'frame': 17},\n {'angle_0': 40.777554661869885,\n  'angle_1': 79.27629310746455,\n  'angle_2': 160.4328709019467,\n  'trajectory_point_0_a': (328, 645),\n  'trajectory_point_0_b': (431, 502),\n  'trajectory_point_1_a': (1225, 62),\n  'trajectory_point_1_b': (1220, 5),\n  'trajectory_point_2_a': (673, 373),\n  'trajectory_point_2_b': (643, 370),\n  'trajectory_point_3_a': (725, 391),\n  'trajectory_point_3_b': (761, 408),\n  'intersection_point_0': (1173, -528),\n  'intersection_point_1': (1257, 431),\n  'intersection_point_2': (690, 374),\n  'frame': 18},\n {'angle_0': 40.67746338003792,\n  'angle_1': 77.30319137905036,\n  'angle_2': 162.3169211330385,\n  'trajectory_point_0_a': (328, 646),\n  'trajectory_point_0_b': (431, 502),\n  'trajectory_point_1_a': (1225, 62),\n  'trajectory_point_1_b': (1220, 6),\n  'trajectory_point_2_a': (673, 374),\n  'trajectory_point_2_b': (643, 370),\n  'trajectory_point_3_a': (725, 391),\n  'trajectory_point_3_b': (761, 408),\n  'intersection_point_0': (1171, -533),\n  'intersection_point_1': (1259, 452),\n  'intersection_point_2': (695, 376),\n  'frame': 19},\n {'angle_0': 40.67746338003792,\n  'angle_1': 77.30319137905036,\n  'angle_2': 162.3169211330385,\n  'trajectory_point_0_a': (328, 646),\n  'trajectory_point_0_b': (431, 502),\n  'trajectory_point_1_a': (1225, 62),\n  'trajectory_point_1_b': (1220, 6),\n  'trajectory_point_2_a': (673, 374),\n  'trajectory_point_2_b': (643, 370),\n  'trajectory_point_3_a': (725, 391),\n  'trajectory_point_3_b': (761, 408),\n  'intersection_point_0': (1171, -533),\n  'intersection_point_1': (1259, 452),\n  'intersection_point_2': (695, 376),\n  'frame': 20},\n {'angle_0': 39.66091490765461,\n  'angle_1': 78.31973985143367,\n  'angle_2': 162.3169211330385,\n  'trajectory_point_0_a': (328, 646),\n  'trajectory_point_0_b': (431, 502),\n  'trajectory_point_1_a': (1224, 62),\n  'trajectory_point_1_b': (1220, 6),\n  'trajectory_point_2_a': (673, 374),\n  'trajectory_point_2_b': (643, 370),\n  'trajectory_point_3_a': (725, 391),\n  'trajectory_point_3_b': (761, 408),\n  'intersection_point_0': (1180, -545),\n  'intersection_point_1': (1251, 451),\n  'intersection_point_2': (695, 376),\n  'frame': 21},\n {'angle_0': 45.47948134065362,\n  'angle_1': 72.50117341843467,\n  'angle_2': 162.3169211330385,\n  'trajectory_point_0_a': (328, 646),\n  'trajectory_point_0_b': (431, 502),\n  'trajectory_point_1_a': (1231, 68),\n  'trajectory_point_1_b': (1220, 5),\n  'trajectory_point_2_a': (673, 374),\n  'trajectory_point_2_b': (643, 370),\n  'trajectory_point_3_a': (725, 391),\n  'trajectory_point_3_b': (761, 408),\n  'intersection_point_0': (1134, -482),\n  'intersection_point_1': (1299, 457),\n  'intersection_point_2': (695, 376),\n  'frame': 22},\n {'angle_0': 40.67746338003792,\n  'angle_1': 77.30319137905036,\n  'angle_2': 162.3169211330385,\n  'trajectory_point_0_a': (328, 646),\n  'trajectory_point_0_b': (431, 502),\n  'trajectory_point_1_a': (1225, 62),\n  'trajectory_point_1_b': (1220, 6),\n  'trajectory_point_2_a': (673, 374),\n  'trajectory_point_2_b': (643, 370),\n  'trajectory_point_3_a': (725, 391),\n  'trajectory_point_3_b': (761, 408),\n  'intersection_point_0': (1171, -533),\n  'intersection_point_1': (1259, 452),\n  'intersection_point_2': (695, 376),\n  'frame': 23},\n {'angle_0': 41.690801693965156,\n  'angle_1': 76.28985306512314,\n  'angle_2': 161.02959219151344,\n  'trajectory_point_0_a': (328, 646),\n  'trajectory_point_0_b': (431, 502),\n  'trajectory_point_1_a': (1226, 62),\n  'trajectory_point_1_b': (1220, 6),\n  'trajectory_point_2_a': (673, 374),\n  'trajectory_point_2_b': (643, 370),\n  'trajectory_point_3_a': (725, 391),\n  'trajectory_point_3_b': (761, 409),\n  'intersection_point_0': (1163, -521),\n  'intersection_point_1': (1267, 453),\n  'intersection_point_2': (697, 377),\n  'frame': 24},\n {'angle_0': 55.01533295585593,\n  'angle_1': 62.965321803232364,\n  'angle_2': 161.02959219151344,\n  'trajectory_point_0_a': (328, 646),\n  'trajectory_point_0_b': (431, 502),\n  'trajectory_point_1_a': (1270, 181),\n  'trajectory_point_1_b': (1228, 62),\n  'trajectory_point_2_a': (673, 374),\n  'trajectory_point_2_b': (643, 370),\n  'trajectory_point_3_a': (725, 391),\n  'trajectory_point_3_b': (761, 409),\n  'intersection_point_0': (1068, -389),\n  'intersection_point_1': (1370, 467),\n  'intersection_point_2': (697, 377),\n  'frame': 25},\n {'angle_0': 18.584474835693566,\n  'angle_1': 99.39617992339473,\n  'angle_2': 161.02959219151344,\n  'trajectory_point_0_a': (328, 646),\n  'trajectory_point_0_b': (431, 502),\n  'trajectory_point_1_a': (1227, 62),\n  'trajectory_point_1_b': (1238, 26),\n  'trajectory_point_2_a': (673, 374),\n  'trajectory_point_2_b': (643, 370),\n  'trajectory_point_3_a': (725, 391),\n  'trajectory_point_3_b': (761, 409),\n  'intersection_point_0': (1585, -1112),\n  'intersection_point_1': (1113, 432),\n  'intersection_point_2': (697, 377),\n  'frame': 26},\n {'angle_0': 58.773888641327936,\n  'angle_1': 59.206766117760374,\n  'angle_2': 161.02959219151344,\n  'trajectory_point_0_a': (328, 646),\n  'trajectory_point_0_b': (431, 502),\n  'trajectory_point_1_a': (1269, 167),\n  'trajectory_point_1_b': (1224, 62),\n  'trajectory_point_2_a': (673, 374),\n  'trajectory_point_2_b': (643, 370),\n  'trajectory_point_3_a': (725, 391),\n  'trajectory_point_3_b': (761, 409),\n  'intersection_point_0': (1044, -356),\n  'intersection_point_1': (1399, 470),\n  'intersection_point_2': (697, 377),\n  'frame': 27},\n {'angle_0': 56.77811677148941,\n  'angle_1': 61.202537987598895,\n  'angle_2': 162.91778019825438,\n  'trajectory_point_0_a': (328, 646),\n  'trajectory_point_0_b': (431, 502),\n  'trajectory_point_1_a': (1269, 178),\n  'trajectory_point_1_b': (1224, 62),\n  'trajectory_point_2_a': (673, 374),\n  'trajectory_point_2_b': (643, 370),\n  'trajectory_point_3_a': (725, 391),\n  'trajectory_point_3_b': (762, 408),\n  'intersection_point_0': (1055, -371),\n  'intersection_point_1': (1381, 468),\n  'intersection_point_2': (694, 376),\n  'frame': 28},\n {'angle_0': 58.03851061708689,\n  'angle_1': 59.9421441420014,\n  'angle_2': 161.65234787871978,\n  'trajectory_point_0_a': (328, 646),\n  'trajectory_point_0_b': (431, 502),\n  'trajectory_point_1_a': (1269, 166),\n  'trajectory_point_1_b': (1226, 62),\n  'trajectory_point_2_a': (673, 374),\n  'trajectory_point_2_b': (643, 370),\n  'trajectory_point_3_a': (725, 391),\n  'trajectory_point_3_b': (762, 409),\n  'intersection_point_0': (1050, -363),\n  'intersection_point_1': (1394, 470),\n  'intersection_point_2': (696, 377),\n  'frame': 29},\n {'angle_0': 56.42975616725809,\n  'angle_1': 61.29222865844344,\n  'angle_2': 161.91101781210654,\n  'trajectory_point_0_a': (328, 646),\n  'trajectory_point_0_b': (431, 502),\n  'trajectory_point_1_a': (1268, 178),\n  'trajectory_point_1_b': (1228, 73),\n  'trajectory_point_2_a': (673, 374),\n  'trajectory_point_2_b': (644, 370),\n  'trajectory_point_3_a': (725, 391),\n  'trajectory_point_3_b': (762, 409),\n  'intersection_point_0': (1057, -374),\n  'intersection_point_1': (1379, 471),\n  'intersection_point_2': (696, 377),\n  'frame': 30},\n {'angle_0': 66.18170515918922,\n  'angle_1': 51.5402796665123,\n  'angle_2': 161.91101781210654,\n  'trajectory_point_0_a': (328, 646),\n  'trajectory_point_0_b': (431, 502),\n  'trajectory_point_1_a': (1225, 61),\n  'trajectory_point_1_b': (1267, 132),\n  'trajectory_point_2_a': (673, 374),\n  'trajectory_point_2_b': (644, 370),\n  'trajectory_point_3_a': (725, 391),\n  'trajectory_point_3_b': (762, 409),\n  'intersection_point_0': (1008, -305),\n  'intersection_point_1': (1475, 484),\n  'intersection_point_2': (696, 377),\n  'frame': 31},\n {'angle_0': 5.676396289065161,\n  'angle_1': 112.04558853663634,\n  'angle_2': 163.17645013164116,\n  'trajectory_point_0_a': (328, 646),\n  'trajectory_point_0_b': (431, 502),\n  'trajectory_point_1_a': (1229, 81),\n  'trajectory_point_1_b': (1252, 41),\n  'trajectory_point_2_a': (673, 374),\n  'trajectory_point_2_b': (644, 370),\n  'trajectory_point_3_a': (725, 392),\n  'trajectory_point_3_b': (762, 409),\n  'intersection_point_0': (3265, -3461),\n  'intersection_point_1': (1032, 423),\n  'intersection_point_2': (691, 376),\n  'frame': 32},\n {'angle_0': 161.37533074625267,\n  'angle_1': 134.67991517621834,\n  'angle_2': 165.10554386147024,\n  'trajectory_point_0_a': (328, 646),\n  'trajectory_point_0_b': (432, 502),\n  'trajectory_point_1_a': (1224, 61),\n  'trajectory_point_1_b': (1252, 41),\n  'trajectory_point_2_a': (673, 375),\n  'trajectory_point_2_b': (644, 370),\n  'trajectory_point_3_a': (725, 392),\n  'trajectory_point_3_b': (762, 409),\n  'intersection_point_0': (245, 759),\n  'intersection_point_1': (762, 390),\n  'intersection_point_2': (697, 379),\n  'frame': 33},\n {'angle_0': 66.80140948635182,\n  'angle_1': 51.18293016594826,\n  'angle_2': 163.17645013164116,\n  'trajectory_point_0_a': (328, 646),\n  'trajectory_point_0_b': (432, 502),\n  'trajectory_point_1_a': (1223, 61),\n  'trajectory_point_1_b': (1265, 131),\n  'trajectory_point_2_a': (673, 375),\n  'trajectory_point_2_b': (644, 371),\n  'trajectory_point_3_a': (725, 392),\n  'trajectory_point_3_b': (762, 409),\n  'intersection_point_0': (1008, -296),\n  'intersection_point_1': (1478, 486),\n  'intersection_point_2': (694, 377),\n  'frame': 34},\n {'angle_0': 66.26343675623956,\n  'angle_1': 51.72090289606052,\n  'angle_2': 163.17645013164116,\n  'trajectory_point_0_a': (328, 646),\n  'trajectory_point_0_b': (432, 502),\n  'trajectory_point_1_a': (1228, 67),\n  'trajectory_point_1_b': (1265, 130),\n  'trajectory_point_2_a': (673, 375),\n  'trajectory_point_2_b': (644, 371),\n  'trajectory_point_3_a': (725, 392),\n  'trajectory_point_3_b': (762, 409),\n  'intersection_point_0': (1011, -300),\n  'intersection_point_1': (1473, 485),\n  'intersection_point_2': (694, 377),\n  'frame': 35},\n {'angle_0': 63.96451621164221,\n  'angle_1': 54.209543871483184,\n  'angle_2': 163.17645013164116,\n  'trajectory_point_0_a': (328, 645),\n  'trajectory_point_0_b': (432, 502),\n  'trajectory_point_1_a': (1229, 66),\n  'trajectory_point_1_b': (1264, 132),\n  'trajectory_point_2_a': (673, 375),\n  'trajectory_point_2_b': (644, 371),\n  'trajectory_point_3_a': (725, 392),\n  'trajectory_point_3_b': (762, 409),\n  'intersection_point_0': (1026, -315),\n  'intersection_point_1': (1449, 482),\n  'intersection_point_2': (694, 377),\n  'frame': 36},\n {'angle_0': 64.81736065220707,\n  'angle_1': 53.166979000093,\n  'angle_2': 163.17645013164116,\n  'trajectory_point_0_a': (328, 646),\n  'trajectory_point_0_b': (432, 502),\n  'trajectory_point_1_a': (1228, 66),\n  'trajectory_point_1_b': (1264, 131),\n  'trajectory_point_2_a': (673, 375),\n  'trajectory_point_2_b': (644, 371),\n  'trajectory_point_3_a': (725, 392),\n  'trajectory_point_3_b': (762, 409),\n  'intersection_point_0': (1019, -311),\n  'intersection_point_1': (1459, 483),\n  'intersection_point_2': (694, 377),\n  'frame': 37},\n {'angle_0': 56.82580363481297,\n  'angle_1': 60.89618119088855,\n  'angle_2': 163.17645013164116,\n  'trajectory_point_0_a': (328, 646),\n  'trajectory_point_0_b': (431, 502),\n  'trajectory_point_1_a': (1268, 167),\n  'trajectory_point_1_b': (1233, 77),\n  'trajectory_point_2_a': (673, 375),\n  'trajectory_point_2_b': (644, 371),\n  'trajectory_point_3_a': (725, 392),\n  'trajectory_point_3_b': (762, 409),\n  'intersection_point_0': (1057, -374),\n  'intersection_point_1': (1387, 473),\n  'intersection_point_2': (694, 377),\n  'frame': 38},\n {'angle_0': 64.24844461711473,\n  'angle_1': 53.47354020858678,\n  'angle_2': 163.17645013164116,\n  'trajectory_point_0_a': (328, 646),\n  'trajectory_point_0_b': (431, 502),\n  'trajectory_point_1_a': (1229, 66),\n  'trajectory_point_1_b': (1264, 130),\n  'trajectory_point_2_a': (673, 375),\n  'trajectory_point_2_b': (644, 371),\n  'trajectory_point_3_a': (725, 392),\n  'trajectory_point_3_b': (762, 409),\n  'intersection_point_0': (1018, -319),\n  'intersection_point_1': (1457, 483),\n  'intersection_point_2': (694, 377),\n  'frame': 39},\n {'angle_0': 63.482942535017436,\n  'angle_1': 54.42818506983843,\n  'angle_2': 163.17645013164116,\n  'trajectory_point_0_a': (328, 645),\n  'trajectory_point_0_b': (431, 502),\n  'trajectory_point_1_a': (1228, 63),\n  'trajectory_point_1_b': (1259, 122),\n  'trajectory_point_2_a': (673, 375),\n  'trajectory_point_2_b': (644, 371),\n  'trajectory_point_3_a': (725, 392),\n  'trajectory_point_3_b': (762, 409),\n  'intersection_point_0': (1025, -322),\n  'intersection_point_1': (1448, 481),\n  'intersection_point_2': (694, 377),\n  'frame': 40},\n {'angle_0': 57.95696113527895,\n  'angle_1': 60.21709894784643,\n  'angle_2': 163.17645013164116,\n  'trajectory_point_0_a': (328, 645),\n  'trajectory_point_0_b': (432, 502),\n  'trajectory_point_1_a': (1259, 139),\n  'trajectory_point_1_b': (1228, 62),\n  'trajectory_point_2_a': (673, 375),\n  'trajectory_point_2_b': (644, 371),\n  'trajectory_point_3_a': (725, 392),\n  'trajectory_point_3_b': (762, 409),\n  'intersection_point_0': (1058, -359),\n  'intersection_point_1': (1394, 474),\n  'intersection_point_2': (694, 377),\n  'frame': 41},\n {'angle_0': 57.765587023802276,\n  'angle_1': 59.95639780189924,\n  'angle_2': 164.46809224476448,\n  'trajectory_point_0_a': (328, 646),\n  'trajectory_point_0_b': (431, 502),\n  'trajectory_point_1_a': (1259, 139),\n  'trajectory_point_1_b': (1228, 63),\n  'trajectory_point_2_a': (673, 375),\n  'trajectory_point_2_b': (644, 371),\n  'trajectory_point_3_a': (725, 393),\n  'trajectory_point_3_b': (762, 409),\n  'intersection_point_0': (1052, -367),\n  'intersection_point_1': (1395, 474),\n  'intersection_point_2': (688, 377),\n  'frame': 42},\n {'angle_0': 57.765587023802276,\n  'angle_1': 59.95639780189924,\n  'angle_2': 164.46809224476448,\n  'trajectory_point_0_a': (328, 646),\n  'trajectory_point_0_b': (431, 502),\n  'trajectory_point_1_a': (1259, 139),\n  'trajectory_point_1_b': (1228, 63),\n  'trajectory_point_2_a': (673, 375),\n  'trajectory_point_2_b': (644, 371),\n  'trajectory_point_3_a': (725, 393),\n  'trajectory_point_3_b': (762, 409),\n  'intersection_point_0': (1052, -367),\n  'intersection_point_1': (1395, 474),\n  'intersection_point_2': (688, 377),\n  'frame': 43},\n {'angle_0': 60.302612514369876,\n  'angle_1': 57.41937231133165,\n  'angle_2': 164.46809224476448,\n  'trajectory_point_0_a': (328, 646),\n  'trajectory_point_0_b': (431, 502),\n  'trajectory_point_1_a': (1262, 139),\n  'trajectory_point_1_b': (1227, 63),\n  'trajectory_point_2_a': (673, 375),\n  'trajectory_point_2_b': (644, 371),\n  'trajectory_point_3_a': (725, 393),\n  'trajectory_point_3_b': (762, 409),\n  'intersection_point_0': (1038, -346),\n  'intersection_point_1': (1418, 477),\n  'intersection_point_2': (688, 377),\n  'frame': 44},\n {'angle_0': 57.92340647558915,\n  'angle_1': 59.79857835011238,\n  'angle_2': 164.46809224476448,\n  'trajectory_point_0_a': (328, 646),\n  'trajectory_point_0_b': (431, 502),\n  'trajectory_point_1_a': (1267, 154),\n  'trajectory_point_1_b': (1230, 64),\n  'trajectory_point_2_a': (673, 375),\n  'trajectory_point_2_b': (644, 371),\n  'trajectory_point_3_a': (725, 393),\n  'trajectory_point_3_b': (762, 409),\n  'intersection_point_0': (1052, -367),\n  'intersection_point_1': (1399, 475),\n  'intersection_point_2': (688, 377),\n  'frame': 45},\n {'angle_0': 69.689771073021,\n  'angle_1': 48.03221375268052,\n  'angle_2': 164.46809224476448,\n  'trajectory_point_0_a': (328, 646),\n  'trajectory_point_0_b': (431, 502),\n  'trajectory_point_1_a': (1228, 63),\n  'trajectory_point_1_b': (1270, 125),\n  'trajectory_point_2_a': (673, 375),\n  'trajectory_point_2_b': (644, 371),\n  'trajectory_point_3_a': (725, 393),\n  'trajectory_point_3_b': (762, 409),\n  'intersection_point_0': (993, -283),\n  'intersection_point_1': (1518, 491),\n  'intersection_point_2': (688, 377),\n  'frame': 46},\n {'angle_0': 61.17748567912152,\n  'angle_1': 56.54449914658001,\n  'angle_2': 164.46809224476448,\n  'trajectory_point_0_a': (328, 646),\n  'trajectory_point_0_b': (431, 502),\n  'trajectory_point_1_a': (1268, 154),\n  'trajectory_point_1_b': (1222, 58),\n  'trajectory_point_2_a': (673, 375),\n  'trajectory_point_2_b': (644, 371),\n  'trajectory_point_3_a': (725, 393),\n  'trajectory_point_3_b': (762, 409),\n  'intersection_point_0': (1032, -338),\n  'intersection_point_1': (1423, 478),\n  'intersection_point_2': (688, 377),\n  'frame': 47},\n {'angle_0': 68.45642508940614,\n  'angle_1': 49.4547025154497,\n  'angle_2': 163.17645013164116,\n  'trajectory_point_0_a': (328, 645),\n  'trajectory_point_0_b': (431, 502),\n  'trajectory_point_1_a': (1223, 58),\n  'trajectory_point_1_b': (1266, 125),\n  'trajectory_point_2_a': (673, 375),\n  'trajectory_point_2_b': (644, 371),\n  'trajectory_point_3_a': (725, 393),\n  'trajectory_point_3_b': (762, 410),\n  'intersection_point_0': (1000, -288),\n  'intersection_point_1': (1499, 489),\n  'intersection_point_2': (691, 377),\n  'frame': 48},\n {'angle_0': 8.290009280556971,\n  'angle_1': 109.62111832429892,\n  'angle_2': 163.17645013164116,\n  'trajectory_point_0_a': (328, 645),\n  'trajectory_point_0_b': (431, 502),\n  'trajectory_point_1_a': (1228, 64),\n  'trajectory_point_1_b': (1241, 39),\n  'trajectory_point_2_a': (673, 375),\n  'trajectory_point_2_b': (644, 371),\n  'trajectory_point_3_a': (725, 393),\n  'trajectory_point_3_b': (762, 410),\n  'intersection_point_0': (2478, -2340),\n  'intersection_point_1': (1039, 425),\n  'intersection_point_2': (691, 377),\n  'frame': 49},\n {'angle_0': 64.96192695289857,\n  'angle_1': 52.94920065195731,\n  'angle_2': 163.17645013164116,\n  'trajectory_point_0_a': (328, 645),\n  'trajectory_point_0_b': (431, 502),\n  'trajectory_point_1_a': (1228, 64),\n  'trajectory_point_1_b': (1266, 132),\n  'trajectory_point_2_a': (673, 375),\n  'trajectory_point_2_b': (644, 371),\n  'trajectory_point_3_a': (725, 393),\n  'trajectory_point_3_b': (762, 410),\n  'intersection_point_0': (1017, -312),\n  'intersection_point_1': (1462, 483),\n  'intersection_point_2': (691, 377),\n  'frame': 50},\n {'angle_0': 65.32479537151481,\n  'angle_1': 52.58633223334105,\n  'angle_2': 163.17645013164116,\n  'trajectory_point_0_a': (328, 645),\n  'trajectory_point_0_b': (431, 502),\n  'trajectory_point_1_a': (1228, 65),\n  'trajectory_point_1_b': (1266, 132),\n  'trajectory_point_2_a': (673, 375),\n  'trajectory_point_2_b': (644, 371),\n  'trajectory_point_3_a': (725, 393),\n  'trajectory_point_3_b': (762, 410),\n  'intersection_point_0': (1015, -309),\n  'intersection_point_1': (1465, 484),\n  'intersection_point_2': (691, 377),\n  'frame': 51},\n {'angle_0': 65.42123007736714,\n  'angle_1': 52.30075474833438,\n  'angle_2': 164.46809224476448,\n  'trajectory_point_0_a': (328, 646),\n  'trajectory_point_0_b': (431, 502),\n  'trajectory_point_1_a': (1231, 64),\n  'trajectory_point_1_b': (1266, 125),\n  'trajectory_point_2_a': (673, 375),\n  'trajectory_point_2_b': (644, 371),\n  'trajectory_point_3_a': (725, 393),\n  'trajectory_point_3_b': (762, 409),\n  'intersection_point_0': (1014, -313),\n  'intersection_point_1': (1472, 485),\n  'intersection_point_2': (688, 377),\n  'frame': 52},\n {'angle_0': 26.518328161270833,\n  'angle_1': 91.39279944358503,\n  'angle_2': 163.17645013164116,\n  'trajectory_point_0_a': (328, 645),\n  'trajectory_point_0_b': (431, 502),\n  'trajectory_point_1_a': (1233, 72),\n  'trajectory_point_1_b': (1240, 29),\n  'trajectory_point_2_a': (673, 375),\n  'trajectory_point_2_b': (644, 371),\n  'trajectory_point_3_a': (725, 393),\n  'trajectory_point_3_b': (762, 410),\n  'intersection_point_0': (1376, -811),\n  'intersection_point_1': (1172, 443),\n  'intersection_point_2': (691, 377),\n  'frame': 53},\n {'angle_0': 64.75326342802563,\n  'angle_1': 53.157864176830245,\n  'angle_2': 163.17645013164116,\n  'trajectory_point_0_a': (328, 645),\n  'trajectory_point_0_b': (431, 502),\n  'trajectory_point_1_a': (1225, 58),\n  'trajectory_point_1_b': (1266, 132),\n  'trajectory_point_2_a': (673, 375),\n  'trajectory_point_2_b': (644, 371),\n  'trajectory_point_3_a': (725, 393),\n  'trajectory_point_3_b': (762, 410),\n  'intersection_point_0': (1018, -314),\n  'intersection_point_1': (1460, 483),\n  'intersection_point_2': (691, 377),\n  'frame': 54},\n {'angle_0': 66.07565413351571,\n  'angle_1': 51.835473471340165,\n  'angle_2': 163.17645013164116,\n  'trajectory_point_0_a': (328, 645),\n  'trajectory_point_0_b': (431, 502),\n  'trajectory_point_1_a': (1225, 58),\n  'trajectory_point_1_b': (1263, 123),\n  'trajectory_point_2_a': (673, 375),\n  'trajectory_point_2_b': (644, 371),\n  'trajectory_point_3_a': (725, 393),\n  'trajectory_point_3_b': (762, 410),\n  'intersection_point_0': (1012, -305),\n  'intersection_point_1': (1474, 485),\n  'intersection_point_2': (691, 377),\n  'frame': 55},\n {'angle_0': 176.7734468643285,\n  'angle_1': 121.13768074052724,\n  'angle_2': 163.17645013164116,\n  'trajectory_point_0_a': (328, 645),\n  'trajectory_point_0_b': (431, 502),\n  'trajectory_point_1_a': (1224, 58),\n  'trajectory_point_1_b': (1241, 37),\n  'trajectory_point_2_a': (673, 375),\n  'trajectory_point_2_b': (644, 371),\n  'trajectory_point_3_a': (725, 393),\n  'trajectory_point_3_b': (762, 410),\n  'intersection_point_0': (-3068, 5360),\n  'intersection_point_1': (937, 411),\n  'intersection_point_2': (691, 377),\n  'frame': 56},\n {'angle_0': 54.616528866119104,\n  'angle_1': 63.105455959582414,\n  'angle_2': 163.17645013164116,\n  'trajectory_point_0_a': (328, 646),\n  'trajectory_point_0_b': (431, 502),\n  'trajectory_point_1_a': (1264, 171),\n  'trajectory_point_1_b': (1225, 58),\n  'trajectory_point_2_a': (673, 375),\n  'trajectory_point_2_b': (644, 371),\n  'trajectory_point_3_a': (725, 393),\n  'trajectory_point_3_b': (762, 410),\n  'intersection_point_0': (1069, -391),\n  'intersection_point_1': (1367, 470),\n  'intersection_point_2': (691, 377),\n  'frame': 57},\n {'angle_0': 62.89958052891097,\n  'angle_1': 55.011547075944904,\n  'angle_2': 163.17645013164116,\n  'trajectory_point_0_a': (328, 645),\n  'trajectory_point_0_b': (431, 502),\n  'trajectory_point_1_a': (1224, 58),\n  'trajectory_point_1_b': (1265, 138),\n  'trajectory_point_2_a': (673, 375),\n  'trajectory_point_2_b': (644, 371),\n  'trajectory_point_3_a': (725, 393),\n  'trajectory_point_3_b': (762, 410),\n  'intersection_point_0': (1027, -325),\n  'intersection_point_1': (1440, 480),\n  'intersection_point_2': (691, 377),\n  'frame': 58},\n {'angle_0': 65.07602275117891,\n  'angle_1': 54.593134262730345,\n  'angle_2': 161.2292779434334,\n  'trajectory_point_0_a': (328, 646),\n  'trajectory_point_0_b': (431, 502),\n  'trajectory_point_1_a': (1224, 58),\n  'trajectory_point_1_b': (1267, 134),\n  'trajectory_point_2_a': (673, 375),\n  'trajectory_point_2_b': (644, 372),\n  'trajectory_point_3_a': (725, 393),\n  'trajectory_point_3_b': (762, 410),\n  'intersection_point_0': (1014, -313),\n  'intersection_point_1': (1448, 455),\n  'intersection_point_2': (689, 376),\n  'frame': 59},\n {'angle_0': 54.33678941724139,\n  'angle_1': 65.71705835209306,\n  'angle_2': 161.03372996716257,\n  'trajectory_point_0_a': (328, 645),\n  'trajectory_point_0_b': (431, 502),\n  'trajectory_point_1_a': (1269, 185),\n  'trajectory_point_1_b': (1227, 60),\n  'trajectory_point_2_a': (673, 375),\n  'trajectory_point_2_b': (643, 372),\n  'trajectory_point_3_a': (725, 393),\n  'trajectory_point_3_b': (762, 410),\n  'intersection_point_0': (1075, -392),\n  'intersection_point_1': (1355, 443),\n  'intersection_point_2': (689, 376),\n  'frame': 60},\n {'angle_0': 62.437215972082434,\n  'angle_1': 57.427489018097674,\n  'angle_2': 159.76829764762797,\n  'trajectory_point_0_a': (328, 646),\n  'trajectory_point_0_b': (431, 502),\n  'trajectory_point_1_a': (1228, 59),\n  'trajectory_point_1_b': (1267, 136),\n  'trajectory_point_2_a': (673, 375),\n  'trajectory_point_2_b': (643, 372),\n  'trajectory_point_3_a': (725, 393),\n  'trajectory_point_3_b': (762, 411),\n  'intersection_point_0': (1028, -333),\n  'intersection_point_1': (1426, 450),\n  'intersection_point_2': (691, 376),\n  'frame': 61},\n {'angle_0': 63.120318522921295,\n  'angle_1': 55.24037157407662,\n  'angle_2': 161.65234787871978,\n  'trajectory_point_0_a': (328, 645),\n  'trajectory_point_0_b': (431, 503),\n  'trajectory_point_1_a': (1229, 59),\n  'trajectory_point_1_b': (1268, 135),\n  'trajectory_point_2_a': (673, 376),\n  'trajectory_point_2_b': (643, 372),\n  'trajectory_point_3_a': (725, 393),\n  'trajectory_point_3_b': (762, 411),\n  'intersection_point_0': (1031, -325),\n  'intersection_point_1': (1444, 478),\n  'intersection_point_2': (696, 379),\n  'frame': 62},\n {'angle_0': 53.2850226515425,\n  'angle_1': 64.43696217415904,\n  'angle_2': 161.91101781210654,\n  'trajectory_point_0_a': (328, 646),\n  'trajectory_point_0_b': (431, 502),\n  'trajectory_point_1_a': (1264, 177),\n  'trajectory_point_1_b': (1226, 58),\n  'trajectory_point_2_a': (673, 376),\n  'trajectory_point_2_b': (644, 372),\n  'trajectory_point_3_a': (725, 393),\n  'trajectory_point_3_b': (762, 411),\n  'intersection_point_0': (1078, -403),\n  'intersection_point_1': (1357, 470),\n  'intersection_point_2': (696, 379),\n  'frame': 63},\n {'angle_0': 53.313443135901856,\n  'angle_1': 64.59768446895401,\n  'angle_2': 161.91101781210654,\n  'trajectory_point_0_a': (328, 646),\n  'trajectory_point_0_b': (431, 503),\n  'trajectory_point_1_a': (1264, 176),\n  'trajectory_point_1_b': (1227, 59),\n  'trajectory_point_2_a': (673, 376),\n  'trajectory_point_2_b': (644, 372),\n  'trajectory_point_3_a': (725, 394),\n  'trajectory_point_3_b': (762, 412),\n  'intersection_point_0': (1081, -400),\n  'intersection_point_1': (1357, 470),\n  'intersection_point_2': (693, 378),\n  'frame': 64},\n {'angle_0': 52.74692476481907,\n  'angle_1': 65.23741488748101,\n  'angle_2': 161.91101781210654,\n  'trajectory_point_0_a': (327, 646),\n  'trajectory_point_0_b': (431, 502),\n  'trajectory_point_1_a': (1264, 183),\n  'trajectory_point_1_b': (1226, 58),\n  'trajectory_point_2_a': (673, 376),\n  'trajectory_point_2_b': (644, 372),\n  'trajectory_point_3_a': (725, 394),\n  'trajectory_point_3_b': (762, 412),\n  'intersection_point_0': (1085, -404),\n  'intersection_point_1': (1351, 469),\n  'intersection_point_2': (693, 378),\n  'frame': 65},\n {'angle_0': 52.903219904920974,\n  'angle_1': 62.88967119095149,\n  'angle_2': 165.10554386147024,\n  'trajectory_point_0_a': (328, 646),\n  'trajectory_point_0_b': (431, 502),\n  'trajectory_point_1_a': (1264, 183),\n  'trajectory_point_1_b': (1225, 58),\n  'trajectory_point_2_a': (673, 377),\n  'trajectory_point_2_b': (644, 372),\n  'trajectory_point_3_a': (725, 395),\n  'trajectory_point_3_b': (762, 412),\n  'intersection_point_0': (1080, -405),\n  'intersection_point_1': (1361, 495),\n  'intersection_point_2': (693, 380),\n  'frame': 66},\n {'angle_0': 65.7693617776581,\n  'angle_1': 50.2126720973687,\n  'angle_2': 163.8401115419356,\n  'trajectory_point_0_a': (328, 646),\n  'trajectory_point_0_b': (431, 503),\n  'trajectory_point_1_a': (1228, 58),\n  'trajectory_point_1_b': (1269, 129),\n  'trajectory_point_2_a': (673, 377),\n  'trajectory_point_2_b': (644, 372),\n  'trajectory_point_3_a': (725, 394),\n  'trajectory_point_3_b': (762, 412),\n  'intersection_point_0': (1015, -309),\n  'intersection_point_1': (1493, 518),\n  'intersection_point_2': (699, 381),\n  'frame': 67},\n {'angle_0': 66.37084793834356,\n  'angle_1': 51.5402796665123,\n  'angle_2': 163.17645013164116,\n  'trajectory_point_0_a': (328, 646),\n  'trajectory_point_0_b': (431, 503),\n  'trajectory_point_1_a': (1227, 58),\n  'trajectory_point_1_b': (1269, 129),\n  'trajectory_point_2_a': (673, 377),\n  'trajectory_point_2_b': (644, 373),\n  'trajectory_point_3_a': (725, 395),\n  'trajectory_point_3_b': (762, 412),\n  'intersection_point_0': (1012, -304),\n  'intersection_point_1': (1481, 488),\n  'intersection_point_2': (691, 379),\n  'frame': 68},\n {'angle_0': 65.7693617776581,\n  'angle_1': 52.14176582719778,\n  'angle_2': 161.91101781210654,\n  'trajectory_point_0_a': (328, 646),\n  'trajectory_point_0_b': (431, 503),\n  'trajectory_point_1_a': (1228, 60),\n  'trajectory_point_1_b': (1269, 131),\n  'trajectory_point_2_a': (673, 377),\n  'trajectory_point_2_b': (644, 373),\n  'trajectory_point_3_a': (725, 395),\n  'trajectory_point_3_b': (762, 413),\n  'intersection_point_0': (1015, -308),\n  'intersection_point_1': (1474, 487),\n  'intersection_point_2': (693, 379),\n  'frame': 69},\n {'angle_0': 59.614914814911,\n  'angle_1': 58.29621278994486,\n  'angle_2': 163.17645013164116,\n  'trajectory_point_0_a': (328, 646),\n  'trajectory_point_0_b': (431, 503),\n  'trajectory_point_1_a': (1270, 154),\n  'trajectory_point_1_b': (1228, 59),\n  'trajectory_point_2_a': (673, 377),\n  'trajectory_point_2_b': (644, 373),\n  'trajectory_point_3_a': (725, 396),\n  'trajectory_point_3_b': (762, 413),\n  'intersection_point_0': (1046, -351),\n  'intersection_point_1': (1413, 479),\n  'intersection_point_2': (688, 379),\n  'frame': 70},\n {'angle_0': 146.5366955888799,\n  'angle_1': 149.44533828614686,\n  'angle_2': 163.8401115419356,\n  'trajectory_point_0_a': (328, 646),\n  'trajectory_point_0_b': (431, 503),\n  'trajectory_point_1_a': (1227, 59),\n  'trajectory_point_1_b': (1256, 48),\n  'trajectory_point_2_a': (673, 378),\n  'trajectory_point_2_b': (644, 373),\n  'trajectory_point_3_a': (725, 396),\n  'trajectory_point_3_b': (762, 414),\n  'intersection_point_0': (571, 307),\n  'intersection_point_1': (475, 343),\n  'intersection_point_2': (696, 382),\n  'frame': 71},\n {'angle_0': 65.5093222037763,\n  'angle_1': 52.40180540107955,\n  'angle_2': 160.02921691772494,\n  'trajectory_point_0_a': (328, 646),\n  'trajectory_point_0_b': (431, 503),\n  'trajectory_point_1_a': (1229, 60),\n  'trajectory_point_1_b': (1269, 130),\n  'trajectory_point_2_a': (673, 378),\n  'trajectory_point_2_b': (644, 374),\n  'trajectory_point_3_a': (725, 396),\n  'trajectory_point_3_b': (761, 415),\n  'intersection_point_0': (1017, -310),\n  'intersection_point_1': (1473, 488),\n  'intersection_point_2': (697, 381),\n  'frame': 72},\n {'angle_0': 65.01619590629515,\n  'angle_1': 51.54885527078284,\n  'angle_2': 162.89727103094762,\n  'trajectory_point_0_a': (327, 646),\n  'trajectory_point_0_b': (431, 503),\n  'trajectory_point_1_a': (1227, 63),\n  'trajectory_point_1_b': (1268, 137),\n  'trajectory_point_2_a': (674, 379),\n  'trajectory_point_2_b': (644, 374),\n  'trajectory_point_3_a': (725, 397),\n  'trajectory_point_3_b': (761, 415),\n  'intersection_point_0': (1021, -308),\n  'intersection_point_1': (1476, 512),\n  'intersection_point_2': (696, 382),\n  'frame': 73},\n {'angle_0': 218.1017467659579,\n  'angle_1': 78.20037193285057,\n  'angle_2': 162.89727103094762,\n  'trajectory_point_0_a': (328, 646),\n  'trajectory_point_0_b': (431, 503),\n  'trajectory_point_1_a': (1226, 59),\n  'trajectory_point_1_b': (1224, 10),\n  'trajectory_point_2_a': (674, 379),\n  'trajectory_point_2_b': (644, 374),\n  'trajectory_point_3_a': (725, 397),\n  'trajectory_point_3_b': (761, 415),\n  'intersection_point_0': (1200, -565),\n  'intersection_point_1': (1242, 473),\n  'intersection_point_2': (696, 382),\n  'frame': 74},\n {'angle_0': 54.505781352026794,\n  'angle_1': 61.79633734678167,\n  'angle_2': 162.89727103094762,\n  'trajectory_point_0_a': (328, 646),\n  'trajectory_point_0_b': (431, 503),\n  'trajectory_point_1_a': (1264, 169),\n  'trajectory_point_1_b': (1226, 57),\n  'trajectory_point_2_a': (674, 379),\n  'trajectory_point_2_b': (644, 374),\n  'trajectory_point_3_a': (725, 398),\n  'trajectory_point_3_b': (761, 416),\n  'intersection_point_0': (1074, -390),\n  'intersection_point_1': (1374, 495),\n  'intersection_point_2': (693, 382),\n  'frame': 75},\n {'angle_0': 69.45450843281387,\n  'angle_1': 46.84761026599459,\n  'angle_2': 162.89727103094762,\n  'trajectory_point_0_a': (328, 646),\n  'trajectory_point_0_b': (431, 503),\n  'trajectory_point_1_a': (1225, 58),\n  'trajectory_point_1_b': (1269, 124),\n  'trajectory_point_2_a': (674, 379),\n  'trajectory_point_2_b': (644, 374),\n  'trajectory_point_3_a': (725, 398),\n  'trajectory_point_3_b': (761, 416),\n  'intersection_point_0': (997, -283),\n  'intersection_point_1': (1534, 522),\n  'intersection_point_2': (693, 382),\n  'frame': 76},\n {'angle_0': 54.790046944402754,\n  'angle_1': 61.5120717544057,\n  'angle_2': 161.63822582377236,\n  'trajectory_point_0_a': (328, 646),\n  'trajectory_point_0_b': (431, 503),\n  'trajectory_point_1_a': (1264, 174),\n  'trajectory_point_1_b': (1224, 58),\n  'trajectory_point_2_a': (674, 379),\n  'trajectory_point_2_b': (644, 374),\n  'trajectory_point_3_a': (725, 398),\n  'trajectory_point_3_b': (761, 417),\n  'intersection_point_0': (1071, -385),\n  'intersection_point_1': (1374, 495),\n  'intersection_point_2': (695, 382),\n  'frame': 77},\n {'angle_0': 70.08382111534814,\n  'angle_1': 47.89683364374015,\n  'angle_2': 159.77054698433818,\n  'trajectory_point_0_a': (328, 647),\n  'trajectory_point_0_b': (431, 503),\n  'trajectory_point_1_a': (1226, 60),\n  'trajectory_point_1_b': (1270, 124),\n  'trajectory_point_2_a': (674, 379),\n  'trajectory_point_2_b': (644, 375),\n  'trajectory_point_3_a': (725, 398),\n  'trajectory_point_3_b': (761, 417),\n  'intersection_point_0': (991, -280),\n  'intersection_point_1': (1523, 492),\n  'intersection_point_2': (694, 381),\n  'frame': 78},\n {'angle_0': 70.04751200771618,\n  'angle_1': 46.06546391193795,\n  'angle_2': 162.89727103094762,\n  'trajectory_point_0_a': (328, 647),\n  'trajectory_point_0_b': (431, 503),\n  'trajectory_point_1_a': (1224, 59),\n  'trajectory_point_1_b': (1270, 126),\n  'trajectory_point_2_a': (674, 380),\n  'trajectory_point_2_b': (644, 375),\n  'trajectory_point_3_a': (725, 399),\n  'trajectory_point_3_b': (761, 417),\n  'intersection_point_0': (991, -280),\n  'intersection_point_1': (1543, 524),\n  'intersection_point_2': (693, 383),\n  'frame': 79},\n {'angle_0': 56.680136712609375,\n  'angle_1': 59.11275438326309,\n  'angle_2': 163.21735585472928,\n  'trajectory_point_0_a': (328, 647),\n  'trajectory_point_0_b': (431, 503),\n  'trajectory_point_1_a': (1269, 177),\n  'trajectory_point_1_b': (1225, 63),\n  'trajectory_point_2_a': (674, 380),\n  'trajectory_point_2_b': (645, 375),\n  'trajectory_point_3_a': (725, 399),\n  'trajectory_point_3_b': (761, 417),\n  'intersection_point_0': (1057, -372),\n  'intersection_point_1': (1395, 504),\n  'intersection_point_2': (693, 383),\n  'frame': 80},\n {'angle_0': 144.60090416524844,\n  'angle_1': 151.5120717544057,\n  'angle_2': 161.63822582377236,\n  'trajectory_point_0_a': (328, 647),\n  'trajectory_point_0_b': (431, 503),\n  'trajectory_point_1_a': (1224, 59),\n  'trajectory_point_1_b': (1253, 49),\n  'trajectory_point_2_a': (674, 380),\n  'trajectory_point_2_b': (644, 375),\n  'trajectory_point_3_a': (725, 399),\n  'trajectory_point_3_b': (761, 418),\n  'intersection_point_0': (592, 276),\n  'intersection_point_1': (417, 337),\n  'intersection_point_2': (695, 383),\n  'frame': 81},\n {'angle_0': 54.57101459719519,\n  'angle_1': 61.804316149057485,\n  'angle_2': 161.63822582377236,\n  'trajectory_point_0_a': (327, 647),\n  'trajectory_point_0_b': (431, 503),\n  'trajectory_point_1_a': (1264, 178),\n  'trajectory_point_1_b': (1225, 63),\n  'trajectory_point_2_a': (674, 380),\n  'trajectory_point_2_b': (644, 375),\n  'trajectory_point_3_a': (725, 399),\n  'trajectory_point_3_b': (761, 418),\n  'intersection_point_0': (1072, -385),\n  'intersection_point_1': (1371, 496),\n  'intersection_point_2': (695, 383),\n  'frame': 82},\n {'angle_0': 56.87516397970011,\n  'angle_1': 59.50016676655257,\n  'angle_2': 161.63822582377236,\n  'trajectory_point_0_a': (327, 647),\n  'trajectory_point_0_b': (431, 503),\n  'trajectory_point_1_a': (1264, 163),\n  'trajectory_point_1_b': (1224, 59),\n  'trajectory_point_2_a': (674, 380),\n  'trajectory_point_2_b': (644, 375),\n  'trajectory_point_3_a': (725, 399),\n  'trajectory_point_3_b': (761, 418),\n  'intersection_point_0': (1059, -367),\n  'intersection_point_1': (1393, 499),\n  'intersection_point_2': (695, 383),\n  'frame': 83},\n {'angle_0': 142.27454236167335,\n  'angle_1': 153.83843355798075,\n  'angle_2': 161.63822582377236,\n  'trajectory_point_0_a': (328, 647),\n  'trajectory_point_0_b': (431, 503),\n  'trajectory_point_1_a': (1223, 58),\n  'trajectory_point_1_b': (1253, 49),\n  'trajectory_point_2_a': (674, 380),\n  'trajectory_point_2_b': (644, 375),\n  'trajectory_point_3_a': (725, 399),\n  'trajectory_point_3_b': (761, 418),\n  'intersection_point_0': (619, 238),\n  'intersection_point_1': (336, 323),\n  'intersection_point_2': (695, 383),\n  'frame': 84},\n {'angle_0': 69.86217510488869,\n  'angle_1': 48.1184796541996,\n  'angle_2': 159.77054698433818,\n  'trajectory_point_0_a': (328, 647),\n  'trajectory_point_0_b': (431, 503),\n  'trajectory_point_1_a': (1224, 58),\n  'trajectory_point_1_b': (1269, 124),\n  'trajectory_point_2_a': (674, 380),\n  'trajectory_point_2_b': (644, 376),\n  'trajectory_point_3_a': (725, 399),\n  'trajectory_point_3_b': (761, 418),\n  'intersection_point_0': (992, -281),\n  'intersection_point_1': (1520, 492),\n  'intersection_point_2': (694, 382),\n  'frame': 85},\n {'angle_0': 66.61102831898268,\n  'angle_1': 51.55876921925996,\n  'angle_2': 159.77054698433818,\n  'trajectory_point_0_a': (328, 647),\n  'trajectory_point_0_b': (431, 504),\n  'trajectory_point_1_a': (1224, 63),\n  'trajectory_point_1_b': (1267, 135),\n  'trajectory_point_2_a': (674, 380),\n  'trajectory_point_2_b': (644, 376),\n  'trajectory_point_3_a': (725, 400),\n  'trajectory_point_3_b': (761, 419),\n  'intersection_point_0': (1008, -297),\n  'intersection_point_1': (1477, 487),\n  'intersection_point_2': (691, 382),\n  'frame': 86},\n {'angle_0': 67.91673604811642,\n  'angle_1': 50.25306149012623,\n  'angle_2': 159.77054698433818,\n  'trajectory_point_0_a': (328, 647),\n  'trajectory_point_0_b': (431, 504),\n  'trajectory_point_1_a': (1225, 63),\n  'trajectory_point_1_b': (1269, 133),\n  'trajectory_point_2_a': (674, 380),\n  'trajectory_point_2_b': (644, 376),\n  'trajectory_point_3_a': (725, 400),\n  'trajectory_point_3_b': (761, 419),\n  'intersection_point_0': (1003, -290),\n  'intersection_point_1': (1492, 489),\n  'intersection_point_2': (691, 382),\n  'frame': 87},\n {'angle_0': 67.76982411491757,\n  'angle_1': 48.5322945838909,\n  'angle_2': 162.89727103094762,\n  'trajectory_point_0_a': (328, 647),\n  'trajectory_point_0_b': (431, 504),\n  'trajectory_point_1_a': (1225, 59),\n  'trajectory_point_1_b': (1270, 131),\n  'trajectory_point_2_a': (674, 381),\n  'trajectory_point_2_b': (644, 376),\n  'trajectory_point_3_a': (725, 401),\n  'trajectory_point_3_b': (761, 419),\n  'intersection_point_0': (1005, -292),\n  'intersection_point_1': (1513, 520),\n  'intersection_point_2': (690, 383),\n  'frame': 88},\n {'angle_0': 68.90005045555294,\n  'angle_1': 47.40206824325551,\n  'angle_2': 162.28121112254837,\n  'trajectory_point_0_a': (328, 647),\n  'trajectory_point_0_b': (431, 504),\n  'trajectory_point_1_a': (1222, 58),\n  'trajectory_point_1_b': (1269, 130),\n  'trajectory_point_2_a': (674, 381),\n  'trajectory_point_2_b': (644, 376),\n  'trajectory_point_3_a': (724, 401),\n  'trajectory_point_3_b': (761, 420),\n  'intersection_point_0': (998, -284),\n  'intersection_point_1': (1525, 522),\n  'intersection_point_2': (690, 383),\n  'frame': 89},\n {'angle_0': 56.350510214766544,\n  'angle_1': 60.214540962311446,\n  'angle_2': 161.63822582377236,\n  'trajectory_point_0_a': (327, 647),\n  'trajectory_point_0_b': (431, 504),\n  'trajectory_point_1_a': (1270, 171),\n  'trajectory_point_1_b': (1230, 63),\n  'trajectory_point_2_a': (674, 381),\n  'trajectory_point_2_b': (644, 376),\n  'trajectory_point_3_a': (724, 401),\n  'trajectory_point_3_b': (760, 420),\n  'intersection_point_0': (1068, -372),\n  'intersection_point_1': (1392, 500),\n  'intersection_point_2': (691, 383),\n  'frame': 90},\n {'angle_0': 31.391909958200962,\n  'angle_1': 85.17314121887702,\n  'angle_2': 161.63822582377236,\n  'trajectory_point_0_a': (327, 647),\n  'trajectory_point_0_b': (431, 504),\n  'trajectory_point_1_a': (1228, 60),\n  'trajectory_point_1_b': (1231, 23),\n  'trajectory_point_2_a': (674, 381),\n  'trajectory_point_2_b': (644, 376),\n  'trajectory_point_3_a': (724, 401),\n  'trajectory_point_3_b': (760, 420),\n  'intersection_point_0': (1287, -673),\n  'intersection_point_1': (1194, 467),\n  'intersection_point_2': (691, 383),\n  'frame': 91},\n {'angle_0': 62.286032939910896,\n  'angle_1': 54.27901823716711,\n  'angle_2': 161.63822582377236,\n  'trajectory_point_0_a': (327, 647),\n  'trajectory_point_0_b': (431, 504),\n  'trajectory_point_1_a': (1264, 134),\n  'trajectory_point_1_b': (1227, 59),\n  'trajectory_point_2_a': (674, 381),\n  'trajectory_point_2_b': (644, 376),\n  'trajectory_point_3_a': (724, 401),\n  'trajectory_point_3_b': (760, 420),\n  'intersection_point_0': (1036, -327),\n  'intersection_point_1': (1449, 510),\n  'intersection_point_2': (691, 383),\n  'frame': 92},\n {'angle_0': 30.31678024760397,\n  'angle_1': 86.24827092947402,\n  'angle_2': 161.63822582377236,\n  'trajectory_point_0_a': (327, 647),\n  'trajectory_point_0_b': (431, 504),\n  'trajectory_point_1_a': (1226, 73),\n  'trajectory_point_1_b': (1231, 23),\n  'trajectory_point_2_a': (674, 381),\n  'trajectory_point_2_b': (644, 376),\n  'trajectory_point_3_a': (724, 402),\n  'trajectory_point_3_b': (760, 421),\n  'intersection_point_0': (1302, -694),\n  'intersection_point_1': (1186, 466),\n  'intersection_point_2': (688, 383),\n  'frame': 93},\n {'angle_0': 64.74770018297309,\n  'angle_1': 51.49726617032323,\n  'angle_2': 161.95831064755401,\n  'trajectory_point_0_a': (327, 647),\n  'trajectory_point_0_b': (431, 504),\n  'trajectory_point_1_a': (1226, 60),\n  'trajectory_point_1_b': (1266, 133),\n  'trajectory_point_2_a': (673, 381),\n  'trajectory_point_2_b': (644, 376),\n  'trajectory_point_3_a': (724, 402),\n  'trajectory_point_3_b': (760, 421),\n  'intersection_point_0': (1023, -310),\n  'intersection_point_1': (1477, 519),\n  'intersection_point_2': (689, 383),\n  'frame': 94},\n {'angle_0': 20.318735556087866,\n  'angle_1': 96.24631562099012,\n  'angle_2': 161.63822582377236,\n  'trajectory_point_0_a': (327, 647),\n  'trajectory_point_0_b': (431, 504),\n  'trajectory_point_1_a': (1227, 60),\n  'trajectory_point_1_b': (1236, 28),\n  'trajectory_point_2_a': (674, 381),\n  'trajectory_point_2_b': (644, 376),\n  'trajectory_point_3_a': (724, 402),\n  'trajectory_point_3_b': (760, 421),\n  'intersection_point_0': (1525, -1000),\n  'intersection_point_1': (1116, 454),\n  'intersection_point_2': (688, 383),\n  'frame': 95},\n {'angle_0': 24.717440911083393,\n  'angle_1': 90.0,\n  'angle_2': 163.48583608976693,\n  'trajectory_point_0_a': (327, 647),\n  'trajectory_point_0_b': (431, 504),\n  'trajectory_point_1_a': (1228, 62),\n  'trajectory_point_1_b': (1235, 27),\n  'trajectory_point_2_a': (674, 382),\n  'trajectory_point_2_b': (644, 376),\n  'trajectory_point_3_a': (724, 402),\n  'trajectory_point_3_b': (760, 421),\n  'intersection_point_0': (1408, -839),\n  'intersection_point_1': (1145, 476),\n  'intersection_point_2': (693, 385),\n  'frame': 96},\n {'angle_0': 34.43623311390902,\n  'angle_1': 82.12881806316898,\n  'angle_2': 160.40771810894844,\n  'trajectory_point_0_a': (327, 647),\n  'trajectory_point_0_b': (431, 504),\n  'trajectory_point_1_a': (1230, 59),\n  'trajectory_point_1_b': (1231, 23),\n  'trajectory_point_2_a': (674, 382),\n  'trajectory_point_2_b': (644, 377),\n  'trajectory_point_3_a': (724, 402),\n  'trajectory_point_3_b': (760, 422),\n  'intersection_point_0': (1248, -620),\n  'intersection_point_1': (1218, 472),\n  'intersection_point_2': (694, 385),\n  'frame': 97},\n {'angle_0': 26.781260639540356,\n  'angle_1': 89.46370571375596,\n  'angle_2': 159.52596986827803,\n  'trajectory_point_0_a': (327, 647),\n  'trajectory_point_0_b': (431, 504),\n  'trajectory_point_1_a': (1229, 71),\n  'trajectory_point_1_b': (1236, 28),\n  'trajectory_point_2_a': (673, 382),\n  'trajectory_point_2_b': (644, 377),\n  'trajectory_point_3_a': (724, 402),\n  'trajectory_point_3_b': (760, 423),\n  'intersection_point_0': (1368, -784),\n  'intersection_point_1': (1164, 466),\n  'intersection_point_2': (696, 386),\n  'frame': 98},\n {'angle_0': 19.32812915110998,\n  'angle_1': 96.91683720218634,\n  'angle_2': 160.72780293273013,\n  'trajectory_point_0_a': (327, 647),\n  'trajectory_point_0_b': (431, 504),\n  'trajectory_point_1_a': (1226, 58),\n  'trajectory_point_1_b': (1235, 28),\n  'trajectory_point_2_a': (673, 382),\n  'trajectory_point_2_b': (644, 377),\n  'trajectory_point_3_a': (724, 402),\n  'trajectory_point_3_b': (760, 422),\n  'intersection_point_0': (1556, -1043),\n  'intersection_point_1': (1106, 456),\n  'intersection_point_2': (694, 385),\n  'frame': 99},\n {'angle_0': 20.60521206636495,\n  'angle_1': 95.95983911071306,\n  'angle_2': 159.7174409110834,\n  'trajectory_point_0_a': (327, 647),\n  'trajectory_point_0_b': (431, 504),\n  'trajectory_point_1_a': (1227, 57),\n  'trajectory_point_1_b': (1235, 28),\n  'trajectory_point_2_a': (674, 382),\n  'trajectory_point_2_b': (644, 377),\n  'trajectory_point_3_a': (724, 403),\n  'trajectory_point_3_b': (759, 423),\n  'intersection_point_0': (1514, -986),\n  'intersection_point_1': (1116, 455),\n  'intersection_point_2': (692, 385),\n  'frame': 100},\n {'angle_0': 216.0273733851036,\n  'angle_1': 78.69006752597979,\n  'angle_2': 160.3461759419467,\n  'trajectory_point_0_a': (327, 647),\n  'trajectory_point_0_b': (431, 504),\n  'trajectory_point_1_a': (1228, 59),\n  'trajectory_point_1_b': (1228, 18),\n  'trajectory_point_2_a': (674, 383),\n  'trajectory_point_2_b': (644, 377),\n  'trajectory_point_3_a': (724, 402),\n  'trajectory_point_3_b': (759, 423),\n  'intersection_point_0': (1228, -591),\n  'intersection_point_1': (1228, 493),\n  'intersection_point_2': (701, 388),\n  'frame': 101},\n {'angle_0': 214.63019235780723,\n  'angle_1': 81.93485881927074,\n  'angle_2': 159.7174409110834,\n  'trajectory_point_0_a': (327, 647),\n  'trajectory_point_0_b': (431, 504),\n  'trajectory_point_1_a': (1228, 59),\n  'trajectory_point_1_b': (1229, 18),\n  'trajectory_point_2_a': (674, 382),\n  'trajectory_point_2_b': (644, 377),\n  'trajectory_point_3_a': (724, 403),\n  'trajectory_point_3_b': (759, 423),\n  'intersection_point_0': (1244, -614),\n  'intersection_point_1': (1217, 472),\n  'intersection_point_2': (692, 385),\n  'frame': 102},\n {'angle_0': 214.7867410814499,\n  'angle_1': 80.12216371014443,\n  'angle_2': 161.56505117707798,\n  'trajectory_point_0_a': (327, 647),\n  'trajectory_point_0_b': (431, 505),\n  'trajectory_point_1_a': (1228, 59),\n  'trajectory_point_1_b': (1229, 19),\n  'trajectory_point_2_a': (674, 383),\n  'trajectory_point_2_b': (644, 377),\n  'trajectory_point_3_a': (724, 403),\n  'trajectory_point_3_b': (759, 423),\n  'intersection_point_0': (1244, -605),\n  'intersection_point_1': (1217, 491),\n  'intersection_point_2': (697, 387),\n  'frame': 103},\n {'angle_0': 212.03392114049612,\n  'angle_1': 84.40250909331112,\n  'angle_2': 160.72780293273013,\n  'trajectory_point_0_a': (327, 647),\n  'trajectory_point_0_b': (431, 505),\n  'trajectory_point_1_a': (1225, 59),\n  'trajectory_point_1_b': (1228, 18),\n  'trajectory_point_2_a': (673, 383),\n  'trajectory_point_2_b': (644, 378),\n  'trajectory_point_3_a': (724, 404),\n  'trajectory_point_3_b': (760, 424),\n  'intersection_point_0': (1276, -649),\n  'intersection_point_1': (1194, 472),\n  'intersection_point_2': (692, 386),\n  'frame': 104},\n {'angle_0': 153.8648126293532,\n  'angle_1': 142.57161760445405,\n  'angle_2': 160.03752573486506,\n  'trajectory_point_0_a': (327, 647),\n  'trajectory_point_0_b': (431, 505),\n  'trajectory_point_1_a': (1224, 58),\n  'trajectory_point_1_b': (1245, 47),\n  'trajectory_point_2_a': (673, 383),\n  'trajectory_point_2_b': (644, 378),\n  'trajectory_point_3_a': (724, 404),\n  'trajectory_point_3_b': (759, 424),\n  'intersection_point_0': (468, 453),\n  'intersection_point_1': (620, 373),\n  'intersection_point_2': (693, 386),\n  'frame': 105},\n {'angle_0': 156.6843821850744,\n  'angle_1': 140.0721328725145,\n  'angle_2': 159.7174409110834,\n  'trajectory_point_0_a': (327, 647),\n  'trajectory_point_0_b': (431, 505),\n  'trajectory_point_1_a': (1227, 58),\n  'trajectory_point_1_b': (1244, 48),\n  'trajectory_point_2_a': (674, 383),\n  'trajectory_point_2_b': (644, 378),\n  'trajectory_point_3_a': (724, 404),\n  'trajectory_point_3_b': (759, 424),\n  'intersection_point_0': (403, 542),\n  'intersection_point_1': (674, 383),\n  'intersection_point_2': (692, 386),\n  'frame': 106},\n {'angle_0': 154.11610829656217,\n  'angle_1': 142.3203219372451,\n  'angle_2': 160.03752573486506,\n  'trajectory_point_0_a': (327, 647),\n  'trajectory_point_0_b': (431, 505),\n  'trajectory_point_1_a': (1228, 57),\n  'trajectory_point_1_b': (1245, 48),\n  'trajectory_point_2_a': (673, 383),\n  'trajectory_point_2_b': (644, 378),\n  'trajectory_point_3_a': (724, 404),\n  'trajectory_point_3_b': (759, 424),\n  'intersection_point_0': (462, 462),\n  'intersection_point_1': (627, 375),\n  'intersection_point_2': (693, 386),\n  'frame': 107},\n {'angle_0': 63.39994835109176,\n  'angle_1': 53.0364818827155,\n  'angle_2': 158.8186504997338,\n  'trajectory_point_0_a': (327, 647),\n  'trajectory_point_0_b': (431, 505),\n  'trajectory_point_1_a': (1228, 58),\n  'trajectory_point_1_b': (1266, 132),\n  'trajectory_point_2_a': (673, 383),\n  'trajectory_point_2_b': (644, 378),\n  'trajectory_point_3_a': (724, 404),\n  'trajectory_point_3_b': (759, 425),\n  'intersection_point_0': (1034, -318),\n  'intersection_point_1': (1465, 519),\n  'intersection_point_2': (695, 386),\n  'frame': 108},\n {'angle_0': 210.50824412811488,\n  'angle_1': 86.24827092947402,\n  'angle_2': 159.7174409110834,\n  'trajectory_point_0_a': (327, 647),\n  'trajectory_point_0_b': (431, 505),\n  'trajectory_point_1_a': (1225, 59),\n  'trajectory_point_1_b': (1229, 19),\n  'trajectory_point_2_a': (674, 383),\n  'trajectory_point_2_b': (644, 378),\n  'trajectory_point_3_a': (724, 405),\n  'trajectory_point_3_b': (759, 425),\n  'intersection_point_0': (1298, -680),\n  'intersection_point_1': (1184, 468),\n  'intersection_point_2': (690, 385),\n  'frame': 109},\n {'angle_0': 212.03392114049612,\n  'angle_1': 84.40250909331112,\n  'angle_2': 159.3168621123474,\n  'trajectory_point_0_a': (327, 647),\n  'trajectory_point_0_b': (431, 505),\n  'trajectory_point_1_a': (1226, 59),\n  'trajectory_point_1_b': (1229, 18),\n  'trajectory_point_2_a': (673, 383),\n  'trajectory_point_2_b': (644, 378),\n  'trajectory_point_3_a': (724, 405),\n  'trajectory_point_3_b': (758, 425),\n  'intersection_point_0': (1277, -651),\n  'intersection_point_1': (1195, 473),\n  'intersection_point_2': (692, 386),\n  'frame': 110},\n {'angle_0': 64.04293364986779,\n  'angle_1': 52.39349658393946,\n  'angle_2': 160.03752573486506,\n  'trajectory_point_0_a': (327, 647),\n  'trajectory_point_0_b': (431, 505),\n  'trajectory_point_1_a': (1226, 59),\n  'trajectory_point_1_b': (1264, 131),\n  'trajectory_point_2_a': (673, 383),\n  'trajectory_point_2_b': (644, 378),\n  'trajectory_point_3_a': (723, 405),\n  'trajectory_point_3_b': (758, 425),\n  'intersection_point_0': (1029, -312),\n  'intersection_point_1': (1469, 520),\n  'intersection_point_2': (689, 385),\n  'frame': 111},\n {'angle_0': 51.86108372282326,\n  'angle_1': 64.57534651098398,\n  'angle_2': 158.8186504997338,\n  'trajectory_point_0_a': (327, 647),\n  'trajectory_point_0_b': (431, 505),\n  'trajectory_point_1_a': (1264, 195),\n  'trajectory_point_1_b': (1229, 70),\n  'trajectory_point_2_a': (673, 383),\n  'trajectory_point_2_b': (644, 378),\n  'trajectory_point_3_a': (723, 405),\n  'trajectory_point_3_b': (758, 426),\n  'intersection_point_0': (1096, -403),\n  'intersection_point_1': (1349, 499),\n  'intersection_point_2': (691, 386),\n  'frame': 112},\n {'angle_0': 65.53931314319529,\n  'angle_1': 48.99015494698006,\n  'angle_2': 159.98793950593347,\n  'trajectory_point_0_a': (327, 647),\n  'trajectory_point_0_b': (431, 505),\n  'trajectory_point_1_a': (1224, 57),\n  'trajectory_point_1_b': (1265, 130),\n  'trajectory_point_2_a': (673, 384),\n  'trajectory_point_2_b': (644, 378),\n  'trajectory_point_3_a': (723, 406),\n  'trajectory_point_3_b': (757, 427),\n  'intersection_point_0': (1022, -302),\n  'intersection_point_1': (1504, 555),\n  'intersection_point_2': (694, 388),\n  'frame': 113},\n {'angle_0': 23.34383570600205,\n  'angle_1': 91.18563238417327,\n  'angle_2': 159.98793950593347,\n  'trajectory_point_0_a': (327, 647),\n  'trajectory_point_0_b': (431, 505),\n  'trajectory_point_1_a': (1225, 59),\n  'trajectory_point_1_b': (1233, 24),\n  'trajectory_point_2_a': (673, 384),\n  'trajectory_point_2_b': (644, 378),\n  'trajectory_point_3_a': (723, 407),\n  'trajectory_point_3_b': (757, 428),\n  'intersection_point_0': (1437, -868),\n  'intersection_point_1': (1129, 478),\n  'intersection_point_2': (692, 387),\n  'frame': 114},\n {'angle_0': 69.5124005364612,\n  'angle_1': 45.01706755371415,\n  'angle_2': 158.78412625245127,\n  'trajectory_point_0_a': (327, 647),\n  'trajectory_point_0_b': (431, 505),\n  'trajectory_point_1_a': (1226, 59),\n  'trajectory_point_1_b': (1270, 126),\n  'trajectory_point_2_a': (673, 384),\n  'trajectory_point_2_b': (644, 378),\n  'trajectory_point_3_a': (723, 407),\n  'trajectory_point_3_b': (757, 429),\n  'intersection_point_0': (1004, -278),\n  'intersection_point_1': (1559, 567),\n  'intersection_point_2': (694, 388),\n  'frame': 115},\n {'angle_0': 21.79806413810356,\n  'angle_1': 90.8503387423495,\n  'angle_2': 159.8803668591817,\n  'trajectory_point_0_a': (327, 647),\n  'trajectory_point_0_b': (431, 505),\n  'trajectory_point_1_a': (1225, 59),\n  'trajectory_point_1_b': (1234, 24),\n  'trajectory_point_2_a': (673, 385),\n  'trajectory_point_2_b': (644, 378),\n  'trajectory_point_3_a': (723, 408),\n  'trajectory_point_3_b': (756, 430),\n  'intersection_point_0': (1477, -924),\n  'intersection_point_1': (1113, 491),\n  'intersection_point_2': (697, 390),\n  'frame': 116},\n {'angle_0': 210.64663946165075,\n  'angle_1': 82.00176341880231,\n  'angle_2': 160.6651914621736,\n  'trajectory_point_0_a': (327, 647),\n  'trajectory_point_0_b': (431, 505),\n  'trajectory_point_1_a': (1225, 59),\n  'trajectory_point_1_b': (1229, 18),\n  'trajectory_point_2_a': (673, 385),\n  'trajectory_point_2_b': (644, 378),\n  'trajectory_point_3_a': (722, 409),\n  'trajectory_point_3_b': (756, 431),\n  'intersection_point_0': (1296, -677),\n  'intersection_point_1': (1181, 507),\n  'intersection_point_2': (691, 389),\n  'frame': 117},\n {'angle_0': 213.67403288580147,\n  'angle_1': 80.8554352043739,\n  'angle_2': 156.81404083083703,\n  'trajectory_point_0_a': (327, 647),\n  'trajectory_point_0_b': (431, 505),\n  'trajectory_point_1_a': (1226, 63),\n  'trajectory_point_1_b': (1228, 18),\n  'trajectory_point_2_a': (673, 385),\n  'trajectory_point_2_b': (644, 379),\n  'trajectory_point_3_a': (722, 409),\n  'trajectory_point_3_b': (755, 432),\n  'intersection_point_0': (1256, -622),\n  'intersection_point_1': (1206, 495),\n  'intersection_point_2': (693, 389),\n  'frame': 118},\n {'angle_0': 212.03392114049612,\n  'angle_1': 82.49554694967922,\n  'angle_2': 156.81404083083703,\n  'trajectory_point_0_a': (327, 647),\n  'trajectory_point_0_b': (431, 505),\n  'trajectory_point_1_a': (1225, 59),\n  'trajectory_point_1_b': (1228, 18),\n  'trajectory_point_2_a': (673, 385),\n  'trajectory_point_2_b': (644, 379),\n  'trajectory_point_3_a': (721, 410),\n  'trajectory_point_3_b': (754, 433),\n  'intersection_point_0': (1276, -649),\n  'intersection_point_1': (1193, 492),\n  'intersection_point_2': (690, 388),\n  'frame': 119}]"
     },
     "execution_count": 55,
     "metadata": {},
     "output_type": "execute_result"
    }
   ],
   "source": [
    "measure"
   ],
   "metadata": {
    "collapsed": false,
    "ExecuteTime": {
     "end_time": "2024-01-05T06:57:47.369743Z",
     "start_time": "2024-01-05T06:57:47.360975Z"
    }
   }
  },
  {
   "cell_type": "code",
   "execution_count": 12,
   "outputs": [],
   "source": [
    "df_angle = pd.DataFrame(measure)\n",
    "df_angle[\"time\"] = df_angle[\"frame\"] / set_fps\n",
    "# df_angle"
   ],
   "metadata": {
    "collapsed": false,
    "ExecuteTime": {
     "end_time": "2024-01-05T08:06:03.893101Z",
     "start_time": "2024-01-05T08:06:03.889346Z"
    }
   }
  },
  {
   "cell_type": "code",
   "execution_count": 11,
   "outputs": [],
   "source": [
    "# UNCOMMENT FOR STORE\n",
    "# df_angle.to_csv(os.path.join(output_folder_csv,f\"{video_name}.csv\"), index=False)\n"
   ],
   "metadata": {
    "collapsed": false,
    "ExecuteTime": {
     "end_time": "2024-01-05T08:05:47.697368Z",
     "start_time": "2024-01-05T08:05:47.678928Z"
    }
   }
  },
  {
   "cell_type": "code",
   "execution_count": null,
   "outputs": [],
   "source": [
    "dd"
   ],
   "metadata": {
    "collapsed": false
   }
  }
 ],
 "metadata": {
  "kernelspec": {
   "display_name": "Python 3",
   "language": "python",
   "name": "python3"
  },
  "language_info": {
   "codemirror_mode": {
    "name": "ipython",
    "version": 2
   },
   "file_extension": ".py",
   "mimetype": "text/x-python",
   "name": "python",
   "nbconvert_exporter": "python",
   "pygments_lexer": "ipython2",
   "version": "2.7.6"
  }
 },
 "nbformat": 4,
 "nbformat_minor": 0
}
